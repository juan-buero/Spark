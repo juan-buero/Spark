{
 "cells": [
  {
   "cell_type": "markdown",
   "metadata": {},
   "source": [
    "## Install Spark and Initialize it"
   ]
  },
  {
   "cell_type": "code",
   "execution_count": 1,
   "metadata": {},
   "outputs": [],
   "source": [
    "import findspark\n",
    "findspark.init()"
   ]
  },
  {
   "cell_type": "markdown",
   "metadata": {},
   "source": [
    "## Start Entry Points to Spark and import SQL functions"
   ]
  },
  {
   "cell_type": "code",
   "execution_count": 2,
   "metadata": {},
   "outputs": [],
   "source": [
    "from pyspark.context import SparkContext\n",
    "from pyspark.sql.session import SparkSession\n",
    "from IPython.display import display, Markdown\n",
    "from pyspark.sql.functions import when, count, col, countDistinct, desc, first, lit, isnan, sum,collect_list,rank, max as sparkMax\n",
    "from pyspark.sql.window import Window\n",
    "\n",
    "\n",
    "sc = SparkContext.getOrCreate()\n",
    "spark = SparkSession(sc)"
   ]
  },
  {
   "cell_type": "markdown",
   "metadata": {},
   "source": [
    "## Read CSV, store as DF, print schema and get dimensions of dataset"
   ]
  },
  {
   "cell_type": "code",
   "execution_count": 3,
   "metadata": {},
   "outputs": [
    {
     "name": "stdout",
     "output_type": "stream",
     "text": [
      "root\n",
      " |-- Record ID: integer (nullable = true)\n",
      " |-- Incident Year: integer (nullable = true)\n",
      " |-- Incident Month: integer (nullable = true)\n",
      " |-- Incident Day: integer (nullable = true)\n",
      " |-- Operator ID: string (nullable = true)\n",
      " |-- Operator: string (nullable = true)\n",
      " |-- Aircraft: string (nullable = true)\n",
      " |-- Aircraft Type: string (nullable = true)\n",
      " |-- Aircraft Make: string (nullable = true)\n",
      " |-- Aircraft Model: string (nullable = true)\n",
      " |-- Aircraft Mass: integer (nullable = true)\n",
      " |-- Engine Make: integer (nullable = true)\n",
      " |-- Engine Model: string (nullable = true)\n",
      " |-- Engines: integer (nullable = true)\n",
      " |-- Engine Type: string (nullable = true)\n",
      " |-- Engine1 Position: string (nullable = true)\n",
      " |-- Engine2 Position: integer (nullable = true)\n",
      " |-- Engine3 Position: string (nullable = true)\n",
      " |-- Engine4 Position: integer (nullable = true)\n",
      " |-- Airport ID: string (nullable = true)\n",
      " |-- Airport: string (nullable = true)\n",
      " |-- State: string (nullable = true)\n",
      " |-- FAA Region: string (nullable = true)\n",
      " |-- Warning Issued: string (nullable = true)\n",
      " |-- Flight Phase: string (nullable = true)\n",
      " |-- Visibility: string (nullable = true)\n",
      " |-- Precipitation: string (nullable = true)\n",
      " |-- Height: integer (nullable = true)\n",
      " |-- Speed: integer (nullable = true)\n",
      " |-- Distance: double (nullable = true)\n",
      " |-- Species ID: string (nullable = true)\n",
      " |-- Species Name: string (nullable = true)\n",
      " |-- Species Quantity: string (nullable = true)\n",
      " |-- Flight Impact: string (nullable = true)\n",
      " |-- Fatalities: integer (nullable = true)\n",
      " |-- Injuries: integer (nullable = true)\n",
      " |-- Aircraft Damage: integer (nullable = true)\n",
      " |-- Radome Strike: integer (nullable = true)\n",
      " |-- Radome Damage: integer (nullable = true)\n",
      " |-- Windshield Strike: integer (nullable = true)\n",
      " |-- Windshield Damage: integer (nullable = true)\n",
      " |-- Nose Strike: integer (nullable = true)\n",
      " |-- Nose Damage: integer (nullable = true)\n",
      " |-- Engine1 Strike: integer (nullable = true)\n",
      " |-- Engine1 Damage: integer (nullable = true)\n",
      " |-- Engine2 Strike: integer (nullable = true)\n",
      " |-- Engine2 Damage: integer (nullable = true)\n",
      " |-- Engine3 Strike: integer (nullable = true)\n",
      " |-- Engine3 Damage: integer (nullable = true)\n",
      " |-- Engine4 Strike: integer (nullable = true)\n",
      " |-- Engine4 Damage: integer (nullable = true)\n",
      " |-- Engine Ingested: integer (nullable = true)\n",
      " |-- Propeller Strike: integer (nullable = true)\n",
      " |-- Propeller Damage: integer (nullable = true)\n",
      " |-- Wing or Rotor Strike: integer (nullable = true)\n",
      " |-- Wing or Rotor Damage: integer (nullable = true)\n",
      " |-- Fuselage Strike: integer (nullable = true)\n",
      " |-- Fuselage Damage: integer (nullable = true)\n",
      " |-- Landing Gear Strike: integer (nullable = true)\n",
      " |-- Landing Gear Damage: integer (nullable = true)\n",
      " |-- Tail Strike: integer (nullable = true)\n",
      " |-- Tail Damage: integer (nullable = true)\n",
      " |-- Lights Strike: integer (nullable = true)\n",
      " |-- Lights Damage: integer (nullable = true)\n",
      " |-- Other Strike: integer (nullable = true)\n",
      " |-- Other Damage: integer (nullable = true)\n",
      "\n",
      "This dataset has 174104 rows and 66 columns\n"
     ]
    }
   ],
   "source": [
    "df = spark.read \\\n",
    "            .option(\"inferSchema\", \"true\") \\\n",
    "            .option(\"header\", \"true\") \\\n",
    "            .csv(\"Aircraft_Wildlife_Strikes.csv\") \\\n",
    "            .cache()\n",
    "\n",
    "df.printSchema()\n",
    "print(\"This dataset has\", df.count(), \"rows and\", len(df.columns), \"columns\")"
   ]
  },
  {
   "cell_type": "markdown",
   "metadata": {},
   "source": [
    "## Take a look at the first row of the dataset"
   ]
  },
  {
   "cell_type": "code",
   "execution_count": 4,
   "metadata": {},
   "outputs": [
    {
     "data": {
      "text/plain": [
       "[Row(Record ID=127128, Incident Year=1990, Incident Month=1, Incident Day=1, Operator ID='DAL', Operator='DELTA AIR LINES', Aircraft='B-757-200', Aircraft Type='A', Aircraft Make='148', Aircraft Model='26', Aircraft Mass=4, Engine Make=34, Engine Model='40', Engines=2, Engine Type='D', Engine1 Position='1', Engine2 Position=1, Engine3 Position=None, Engine4 Position=None, Airport ID='KCVG', Airport='CINCINNATI/NORTHERN KENTUCKY INTL ARPT', State='KY', FAA Region='ASO', Warning Issued=None, Flight Phase='CLIMB', Visibility=None, Precipitation=None, Height=None, Speed=None, Distance=None, Species ID='NE1', Species Name='GULL', Species Quantity='1', Flight Impact=None, Fatalities=None, Injuries=None, Aircraft Damage=1, Radome Strike=1, Radome Damage=1, Windshield Strike=0, Windshield Damage=0, Nose Strike=0, Nose Damage=0, Engine1 Strike=0, Engine1 Damage=0, Engine2 Strike=0, Engine2 Damage=0, Engine3 Strike=0, Engine3 Damage=0, Engine4 Strike=0, Engine4 Damage=0, Engine Ingested=0, Propeller Strike=0, Propeller Damage=0, Wing or Rotor Strike=0, Wing or Rotor Damage=0, Fuselage Strike=0, Fuselage Damage=0, Landing Gear Strike=0, Landing Gear Damage=0, Tail Strike=1, Tail Damage=1, Lights Strike=0, Lights Damage=0, Other Strike=0, Other Damage=0)]"
      ]
     },
     "metadata": {},
     "output_type": "display_data"
    }
   ],
   "source": [
    "display(df.take(1))"
   ]
  },
  {
   "cell_type": "markdown",
   "metadata": {},
   "source": [
    "## Get a random sample of the data"
   ]
  },
  {
   "cell_type": "code",
   "execution_count": 5,
   "metadata": {},
   "outputs": [
    {
     "data": {
      "text/plain": [
       "[Row(Record ID=129780, Incident Year=1990, Incident Month=1, Incident Day=2, Operator ID='UNK', Operator='UNKNOWN', Aircraft='UNKNOWN', Aircraft Type=None, Aircraft Make=None, Aircraft Model=None, Aircraft Mass=None, Engine Make=None, Engine Model=None, Engines=None, Engine Type=None, Engine1 Position=None, Engine2 Position=None, Engine3 Position=None, Engine4 Position=None, Airport ID='PHLI', Airport='LIHUE ARPT', State='HI', FAA Region='AWP', Warning Issued=None, Flight Phase=None, Visibility=None, Precipitation=None, Height=None, Speed=None, Distance=0.0, Species ID='R1101', Species Name='BARN OWL', Species Quantity='1', Flight Impact=None, Fatalities=None, Injuries=None, Aircraft Damage=0, Radome Strike=0, Radome Damage=0, Windshield Strike=0, Windshield Damage=0, Nose Strike=0, Nose Damage=0, Engine1 Strike=0, Engine1 Damage=0, Engine2 Strike=0, Engine2 Damage=0, Engine3 Strike=0, Engine3 Damage=0, Engine4 Strike=0, Engine4 Damage=0, Engine Ingested=0, Propeller Strike=0, Propeller Damage=0, Wing or Rotor Strike=0, Wing or Rotor Damage=0, Fuselage Strike=0, Fuselage Damage=0, Landing Gear Strike=0, Landing Gear Damage=0, Tail Strike=0, Tail Damage=0, Lights Strike=0, Lights Damage=0, Other Strike=0, Other Damage=0)]"
      ]
     },
     "metadata": {},
     "output_type": "display_data"
    }
   ],
   "source": [
    "display(df.sample(0.1).take(1))"
   ]
  },
  {
   "cell_type": "markdown",
   "metadata": {},
   "source": [
    "### Get a cleaner view of the dataset using Pandas"
   ]
  },
  {
   "cell_type": "code",
   "execution_count": 6,
   "metadata": {},
   "outputs": [
    {
     "data": {
      "text/html": [
       "<div>\n",
       "<style scoped>\n",
       "    .dataframe tbody tr th:only-of-type {\n",
       "        vertical-align: middle;\n",
       "    }\n",
       "\n",
       "    .dataframe tbody tr th {\n",
       "        vertical-align: top;\n",
       "    }\n",
       "\n",
       "    .dataframe thead th {\n",
       "        text-align: right;\n",
       "    }\n",
       "</style>\n",
       "<table border=\"1\" class=\"dataframe\">\n",
       "  <thead>\n",
       "    <tr style=\"text-align: right;\">\n",
       "      <th></th>\n",
       "      <th>Record ID</th>\n",
       "      <th>Incident Year</th>\n",
       "      <th>Incident Month</th>\n",
       "      <th>Incident Day</th>\n",
       "      <th>Operator ID</th>\n",
       "      <th>Operator</th>\n",
       "      <th>Aircraft</th>\n",
       "      <th>Aircraft Type</th>\n",
       "      <th>Aircraft Make</th>\n",
       "      <th>Aircraft Model</th>\n",
       "      <th>...</th>\n",
       "      <th>Fuselage Strike</th>\n",
       "      <th>Fuselage Damage</th>\n",
       "      <th>Landing Gear Strike</th>\n",
       "      <th>Landing Gear Damage</th>\n",
       "      <th>Tail Strike</th>\n",
       "      <th>Tail Damage</th>\n",
       "      <th>Lights Strike</th>\n",
       "      <th>Lights Damage</th>\n",
       "      <th>Other Strike</th>\n",
       "      <th>Other Damage</th>\n",
       "    </tr>\n",
       "  </thead>\n",
       "  <tbody>\n",
       "    <tr>\n",
       "      <th>0</th>\n",
       "      <td>127128</td>\n",
       "      <td>1990</td>\n",
       "      <td>1</td>\n",
       "      <td>1</td>\n",
       "      <td>DAL</td>\n",
       "      <td>DELTA AIR LINES</td>\n",
       "      <td>B-757-200</td>\n",
       "      <td>A</td>\n",
       "      <td>148</td>\n",
       "      <td>26</td>\n",
       "      <td>...</td>\n",
       "      <td>0</td>\n",
       "      <td>0</td>\n",
       "      <td>0</td>\n",
       "      <td>0</td>\n",
       "      <td>1</td>\n",
       "      <td>1</td>\n",
       "      <td>0</td>\n",
       "      <td>0</td>\n",
       "      <td>0</td>\n",
       "      <td>0</td>\n",
       "    </tr>\n",
       "    <tr>\n",
       "      <th>1</th>\n",
       "      <td>129779</td>\n",
       "      <td>1990</td>\n",
       "      <td>1</td>\n",
       "      <td>1</td>\n",
       "      <td>HAL</td>\n",
       "      <td>HAWAIIAN AIR</td>\n",
       "      <td>DC-9</td>\n",
       "      <td>A</td>\n",
       "      <td>583</td>\n",
       "      <td>90</td>\n",
       "      <td>...</td>\n",
       "      <td>0</td>\n",
       "      <td>0</td>\n",
       "      <td>0</td>\n",
       "      <td>0</td>\n",
       "      <td>0</td>\n",
       "      <td>0</td>\n",
       "      <td>0</td>\n",
       "      <td>0</td>\n",
       "      <td>1</td>\n",
       "      <td>0</td>\n",
       "    </tr>\n",
       "    <tr>\n",
       "      <th>2</th>\n",
       "      <td>129780</td>\n",
       "      <td>1990</td>\n",
       "      <td>1</td>\n",
       "      <td>2</td>\n",
       "      <td>UNK</td>\n",
       "      <td>UNKNOWN</td>\n",
       "      <td>UNKNOWN</td>\n",
       "      <td>None</td>\n",
       "      <td>None</td>\n",
       "      <td>None</td>\n",
       "      <td>...</td>\n",
       "      <td>0</td>\n",
       "      <td>0</td>\n",
       "      <td>0</td>\n",
       "      <td>0</td>\n",
       "      <td>0</td>\n",
       "      <td>0</td>\n",
       "      <td>0</td>\n",
       "      <td>0</td>\n",
       "      <td>0</td>\n",
       "      <td>0</td>\n",
       "    </tr>\n",
       "    <tr>\n",
       "      <th>3</th>\n",
       "      <td>2258</td>\n",
       "      <td>1990</td>\n",
       "      <td>1</td>\n",
       "      <td>3</td>\n",
       "      <td>MIL</td>\n",
       "      <td>MILITARY</td>\n",
       "      <td>A-10A</td>\n",
       "      <td>A</td>\n",
       "      <td>345</td>\n",
       "      <td>None</td>\n",
       "      <td>...</td>\n",
       "      <td>0</td>\n",
       "      <td>0</td>\n",
       "      <td>0</td>\n",
       "      <td>0</td>\n",
       "      <td>0</td>\n",
       "      <td>0</td>\n",
       "      <td>0</td>\n",
       "      <td>0</td>\n",
       "      <td>0</td>\n",
       "      <td>0</td>\n",
       "    </tr>\n",
       "    <tr>\n",
       "      <th>4</th>\n",
       "      <td>2257</td>\n",
       "      <td>1990</td>\n",
       "      <td>1</td>\n",
       "      <td>3</td>\n",
       "      <td>MIL</td>\n",
       "      <td>MILITARY</td>\n",
       "      <td>F-16</td>\n",
       "      <td>A</td>\n",
       "      <td>561</td>\n",
       "      <td>None</td>\n",
       "      <td>...</td>\n",
       "      <td>0</td>\n",
       "      <td>0</td>\n",
       "      <td>0</td>\n",
       "      <td>0</td>\n",
       "      <td>0</td>\n",
       "      <td>0</td>\n",
       "      <td>0</td>\n",
       "      <td>0</td>\n",
       "      <td>0</td>\n",
       "      <td>0</td>\n",
       "    </tr>\n",
       "    <tr>\n",
       "      <th>...</th>\n",
       "      <td>...</td>\n",
       "      <td>...</td>\n",
       "      <td>...</td>\n",
       "      <td>...</td>\n",
       "      <td>...</td>\n",
       "      <td>...</td>\n",
       "      <td>...</td>\n",
       "      <td>...</td>\n",
       "      <td>...</td>\n",
       "      <td>...</td>\n",
       "      <td>...</td>\n",
       "      <td>...</td>\n",
       "      <td>...</td>\n",
       "      <td>...</td>\n",
       "      <td>...</td>\n",
       "      <td>...</td>\n",
       "      <td>...</td>\n",
       "      <td>...</td>\n",
       "      <td>...</td>\n",
       "      <td>...</td>\n",
       "      <td>...</td>\n",
       "    </tr>\n",
       "    <tr>\n",
       "      <th>174099</th>\n",
       "      <td>366091</td>\n",
       "      <td>2015</td>\n",
       "      <td>9</td>\n",
       "      <td>30</td>\n",
       "      <td>SWA</td>\n",
       "      <td>SOUTHWEST AIRLINES</td>\n",
       "      <td>B-737-700</td>\n",
       "      <td>A</td>\n",
       "      <td>148</td>\n",
       "      <td>42</td>\n",
       "      <td>...</td>\n",
       "      <td>0</td>\n",
       "      <td>0</td>\n",
       "      <td>0</td>\n",
       "      <td>0</td>\n",
       "      <td>0</td>\n",
       "      <td>0</td>\n",
       "      <td>0</td>\n",
       "      <td>0</td>\n",
       "      <td>0</td>\n",
       "      <td>0</td>\n",
       "    </tr>\n",
       "    <tr>\n",
       "      <th>174100</th>\n",
       "      <td>365902</td>\n",
       "      <td>2015</td>\n",
       "      <td>9</td>\n",
       "      <td>30</td>\n",
       "      <td>SWA</td>\n",
       "      <td>SOUTHWEST AIRLINES</td>\n",
       "      <td>B-737-700</td>\n",
       "      <td>A</td>\n",
       "      <td>148</td>\n",
       "      <td>42</td>\n",
       "      <td>...</td>\n",
       "      <td>0</td>\n",
       "      <td>0</td>\n",
       "      <td>0</td>\n",
       "      <td>0</td>\n",
       "      <td>0</td>\n",
       "      <td>0</td>\n",
       "      <td>0</td>\n",
       "      <td>0</td>\n",
       "      <td>0</td>\n",
       "      <td>0</td>\n",
       "    </tr>\n",
       "    <tr>\n",
       "      <th>174101</th>\n",
       "      <td>365903</td>\n",
       "      <td>2015</td>\n",
       "      <td>9</td>\n",
       "      <td>30</td>\n",
       "      <td>BUS</td>\n",
       "      <td>BUSINESS</td>\n",
       "      <td>CITATIONJET</td>\n",
       "      <td>A</td>\n",
       "      <td>226</td>\n",
       "      <td>49</td>\n",
       "      <td>...</td>\n",
       "      <td>1</td>\n",
       "      <td>1</td>\n",
       "      <td>0</td>\n",
       "      <td>0</td>\n",
       "      <td>0</td>\n",
       "      <td>0</td>\n",
       "      <td>0</td>\n",
       "      <td>0</td>\n",
       "      <td>0</td>\n",
       "      <td>0</td>\n",
       "    </tr>\n",
       "    <tr>\n",
       "      <th>174102</th>\n",
       "      <td>366046</td>\n",
       "      <td>2015</td>\n",
       "      <td>9</td>\n",
       "      <td>30</td>\n",
       "      <td>QXE</td>\n",
       "      <td>HORIZON AIR</td>\n",
       "      <td>DHC8 DASH 8</td>\n",
       "      <td>A</td>\n",
       "      <td>303</td>\n",
       "      <td>10</td>\n",
       "      <td>...</td>\n",
       "      <td>1</td>\n",
       "      <td>0</td>\n",
       "      <td>0</td>\n",
       "      <td>0</td>\n",
       "      <td>0</td>\n",
       "      <td>0</td>\n",
       "      <td>0</td>\n",
       "      <td>0</td>\n",
       "      <td>0</td>\n",
       "      <td>0</td>\n",
       "    </tr>\n",
       "    <tr>\n",
       "      <th>174103</th>\n",
       "      <td>365823</td>\n",
       "      <td>2015</td>\n",
       "      <td>9</td>\n",
       "      <td>30</td>\n",
       "      <td>AWI</td>\n",
       "      <td>AIR WISCONSIN AIRLINES</td>\n",
       "      <td>CRJ100/200</td>\n",
       "      <td>A</td>\n",
       "      <td>188</td>\n",
       "      <td>10</td>\n",
       "      <td>...</td>\n",
       "      <td>0</td>\n",
       "      <td>0</td>\n",
       "      <td>0</td>\n",
       "      <td>0</td>\n",
       "      <td>0</td>\n",
       "      <td>0</td>\n",
       "      <td>0</td>\n",
       "      <td>0</td>\n",
       "      <td>1</td>\n",
       "      <td>0</td>\n",
       "    </tr>\n",
       "  </tbody>\n",
       "</table>\n",
       "<p>174104 rows × 66 columns</p>\n",
       "</div>"
      ],
      "text/plain": [
       "        Record ID  Incident Year  Incident Month  Incident Day Operator ID  \\\n",
       "0          127128           1990               1             1         DAL   \n",
       "1          129779           1990               1             1         HAL   \n",
       "2          129780           1990               1             2         UNK   \n",
       "3            2258           1990               1             3         MIL   \n",
       "4            2257           1990               1             3         MIL   \n",
       "...           ...            ...             ...           ...         ...   \n",
       "174099     366091           2015               9            30         SWA   \n",
       "174100     365902           2015               9            30         SWA   \n",
       "174101     365903           2015               9            30         BUS   \n",
       "174102     366046           2015               9            30         QXE   \n",
       "174103     365823           2015               9            30         AWI   \n",
       "\n",
       "                      Operator     Aircraft Aircraft Type Aircraft Make  \\\n",
       "0              DELTA AIR LINES    B-757-200             A           148   \n",
       "1                 HAWAIIAN AIR         DC-9             A           583   \n",
       "2                      UNKNOWN      UNKNOWN          None          None   \n",
       "3                     MILITARY        A-10A             A           345   \n",
       "4                     MILITARY         F-16             A           561   \n",
       "...                        ...          ...           ...           ...   \n",
       "174099      SOUTHWEST AIRLINES    B-737-700             A           148   \n",
       "174100      SOUTHWEST AIRLINES    B-737-700             A           148   \n",
       "174101                BUSINESS  CITATIONJET             A           226   \n",
       "174102             HORIZON AIR  DHC8 DASH 8             A           303   \n",
       "174103  AIR WISCONSIN AIRLINES   CRJ100/200             A           188   \n",
       "\n",
       "       Aircraft Model  ...  Fuselage Strike  Fuselage Damage  \\\n",
       "0                  26  ...                0                0   \n",
       "1                  90  ...                0                0   \n",
       "2                None  ...                0                0   \n",
       "3                None  ...                0                0   \n",
       "4                None  ...                0                0   \n",
       "...               ...  ...              ...              ...   \n",
       "174099             42  ...                0                0   \n",
       "174100             42  ...                0                0   \n",
       "174101             49  ...                1                1   \n",
       "174102             10  ...                1                0   \n",
       "174103             10  ...                0                0   \n",
       "\n",
       "       Landing Gear Strike  Landing Gear Damage Tail Strike Tail Damage  \\\n",
       "0                        0                    0           1           1   \n",
       "1                        0                    0           0           0   \n",
       "2                        0                    0           0           0   \n",
       "3                        0                    0           0           0   \n",
       "4                        0                    0           0           0   \n",
       "...                    ...                  ...         ...         ...   \n",
       "174099                   0                    0           0           0   \n",
       "174100                   0                    0           0           0   \n",
       "174101                   0                    0           0           0   \n",
       "174102                   0                    0           0           0   \n",
       "174103                   0                    0           0           0   \n",
       "\n",
       "        Lights Strike Lights Damage  Other Strike Other Damage  \n",
       "0                   0             0             0            0  \n",
       "1                   0             0             1            0  \n",
       "2                   0             0             0            0  \n",
       "3                   0             0             0            0  \n",
       "4                   0             0             0            0  \n",
       "...               ...           ...           ...          ...  \n",
       "174099              0             0             0            0  \n",
       "174100              0             0             0            0  \n",
       "174101              0             0             0            0  \n",
       "174102              0             0             0            0  \n",
       "174103              0             0             1            0  \n",
       "\n",
       "[174104 rows x 66 columns]"
      ]
     },
     "execution_count": 6,
     "metadata": {},
     "output_type": "execute_result"
    }
   ],
   "source": [
    "df.toPandas()"
   ]
  },
  {
   "cell_type": "markdown",
   "metadata": {},
   "source": [
    "## Data understanding and feature classification "
   ]
  },
  {
   "cell_type": "markdown",
   "metadata": {},
   "source": [
    "It seems that the ID feature corresponds to flights where different types of aircraft (civil, military or commercial) had a collision with a bird. There are some dimensions such as \"Airport\", \"Operator\", etc. and then we have dummy encoded variables with 0 and 1's to specify whether the described feature is true or not."
   ]
  },
  {
   "cell_type": "markdown",
   "metadata": {},
   "source": [
    "Therefore, after getting an idea of what the dataset is about and the different columns we have, we can categorize the features into the following 4 groups:\n",
    "- **Timing related columns:** *Incident Year, Incident Month, Incident Day*\n",
    "- **Flight and aircraft related columns:** *Operator ID, Operator, Aircraft, Aircraft Type, Aircraft Make, Aircraft Model, Aircraft Mass, Engine Make, Engine Model, Engines, Engine Type, Engine1 Position, Engine2 Position, Engine3 Position, Engine4 Position, Airport ID, Airport, State, FAA Region, Warning Issued, Flight Phase, Visibility, Precipitation, Height, Speed, Distance*\n",
    "- **Bird related columns:** *Species ID, Species Name, Species Quantity*\n",
    "- **Damage Evaluation columns:** *Flight Impact, Fatalities, Injuries, Aircraft Damage, Radome Strike, Radome Damage, Windshield Strike, Windshield Damage, Nose Strike, Nose Damage, Engine1 Strike, Engine1 Damage, Engine2 Strike, Engine2 Damage, Engine3 Strike, Engine3 Damage, Engine4 Strike, Engine4 Damage, Engine Ingested, Propeller Strike, Propeller Damage, Wing or Rotor Strike, Wing or Rotor Damage, Fuselage Strike, Fuselage Damage, Landing Gear Strike, Landing Gear Damage, Tail Strike, Tail Damage, Lights Strike, Lights Damage, Other Strike, Other Damage*"
   ]
  },
  {
   "cell_type": "markdown",
   "metadata": {},
   "source": [
    "## Profiling of different categories"
   ]
  },
  {
   "cell_type": "markdown",
   "metadata": {},
   "source": [
    "### A. For Time Related Columns:"
   ]
  },
  {
   "cell_type": "code",
   "execution_count": 7,
   "metadata": {},
   "outputs": [
    {
     "name": "stdout",
     "output_type": "stream",
     "text": [
      "Summary of Time related columns:\n",
      "+-------+------------------+------------------+------------------+\n",
      "|summary|     Incident Year|    Incident Month|      Incident Day|\n",
      "+-------+------------------+------------------+------------------+\n",
      "|  count|            174104|            174104|            174104|\n",
      "|   mean|2006.0363920415384| 7.171839819877774|15.712263934200248|\n",
      "| stddev| 6.747707856543079|2.7901520645834745| 8.799405130230447|\n",
      "|    min|              1990|                 1|                 1|\n",
      "|    25%|              2001|                 5|                 8|\n",
      "|    50%|              2007|                 8|                16|\n",
      "|    75%|              2012|                 9|                23|\n",
      "|    max|              2015|                12|                31|\n",
      "+-------+------------------+------------------+------------------+\n",
      "\n",
      "No NULLs detected\n"
     ]
    }
   ],
   "source": [
    "print (\"Summary of Time related columns:\")\n",
    "df.select(\"Incident Year\",\"Incident Month\",\"Incident Day\").summary().show()\n",
    "print(\"No NULLs detected\")"
   ]
  },
  {
   "cell_type": "code",
   "execution_count": 8,
   "metadata": {
    "scrolled": true
   },
   "outputs": [
    {
     "name": "stdout",
     "output_type": "stream",
     "text": [
      "Most and least frequent occurrences for DayofMonth and DayOfWeek columns:\n"
     ]
    },
    {
     "data": {
      "text/markdown": [
       "\n",
       "| leastFreqDay | mostFreqDay | leastFreqMonth | mostFreqMonth | leastFreqYear | mostFreqYear |\n",
       "|----|----|----|----|----|----|\n",
       "| 31 (3151 occurrences) | 10 (6032 occurrences) | 2 (5587 occurrences) | 8 (24494 occurrences) | 1990 (2099 occurrences) | 2014 (13976 occurrences) |\n"
      ],
      "text/plain": [
       "<IPython.core.display.Markdown object>"
      ]
     },
     "metadata": {},
     "output_type": "display_data"
    }
   ],
   "source": [
    "print (\"Most and least frequent occurrences for DayofMonth and DayOfWeek columns:\")\n",
    "dayofIncidenceOccurences = df.groupBy(\"Incident Day\").count()\n",
    "monthofIncidenceOccurences = df.groupBy(\"Incident Month\").count()\n",
    "yearofIncidenceOccurences = df.groupBy(\"Incident Year\").count()\n",
    "\n",
    "\n",
    "leastFreqDay = dayofIncidenceOccurences.orderBy(col(\"count\").asc()).first()\n",
    "mostFreqDay  = dayofIncidenceOccurences.orderBy(col(\"count\").desc()).first()\n",
    "leastFreqMonth = monthofIncidenceOccurences.orderBy(col(\"count\").asc()).first()\n",
    "mostFreqMonth  = monthofIncidenceOccurences.orderBy(col(\"count\").desc()).first()\n",
    "leastFreqYear = yearofIncidenceOccurences.orderBy(col(\"count\").asc()).first()\n",
    "mostFreqYear  = yearofIncidenceOccurences.orderBy(col(\"count\").desc()).first()\n",
    "\n",
    "display(Markdown(\"\"\"\n",
    "| %s | %s | %s | %s | %s | %s |\n",
    "|----|----|----|----|----|----|\n",
    "| %s | %s | %s | %s | %s | %s |\n",
    "\"\"\" % (\"leastFreqDay\", \"mostFreqDay\", \"leastFreqMonth\", \"mostFreqMonth\",\"leastFreqYear\", \"mostFreqYear\", \\\n",
    "       \"%d (%d occurrences)\" % (leastFreqDay[\"Incident Day\"], leastFreqDay[\"count\"]), \\\n",
    "       \"%d (%d occurrences)\" % (mostFreqDay[\"Incident Day\"], mostFreqDay[\"count\"]), \\\n",
    "       \"%d (%d occurrences)\" % (leastFreqMonth[\"Incident Month\"], leastFreqMonth[\"count\"]), \\\n",
    "       \"%d (%d occurrences)\" % (mostFreqMonth[\"Incident Month\"], mostFreqMonth[\"count\"]), \\\n",
    "       \"%d (%d occurrences)\" % (leastFreqYear[\"Incident Year\"], leastFreqYear[\"count\"]), \\\n",
    "       \"%d (%d occurrences)\" % (mostFreqYear[\"Incident Year\"], mostFreqYear[\"count\"]))))"
   ]
  },
  {
   "cell_type": "markdown",
   "metadata": {},
   "source": [
    "Apparently 2014 was not a good year to travel by plane, there were almost 7 times more birdstrikes than in 1990"
   ]
  },
  {
   "cell_type": "code",
   "execution_count": 9,
   "metadata": {},
   "outputs": [
    {
     "name": "stdout",
     "output_type": "stream",
     "text": [
      "Checking amount of distinct values in Timing related columns:\n",
      "+------------+--------------+-------------+\n",
      "|Incident Day|Incident Month|Incident Year|\n",
      "+------------+--------------+-------------+\n",
      "|          31|            12|           26|\n",
      "+------------+--------------+-------------+\n",
      "\n"
     ]
    }
   ],
   "source": [
    "print(\"Checking amount of distinct values in Timing related columns:\")\n",
    "df.select([countDistinct(c).alias(c) for c in [\"Incident Day\",\"Incident Month\",\"Incident Year\"]]).show()"
   ]
  },
  {
   "cell_type": "markdown",
   "metadata": {},
   "source": [
    "According to the information above, we have an bird incident for 26 different years, and there are records for all 31 days of a month and for all months.\n",
    "Besides this, there are no missing values in any of the time related columns"
   ]
  },
  {
   "cell_type": "markdown",
   "metadata": {},
   "source": [
    "### B. For flight and aircraft related columns:"
   ]
  },
  {
   "cell_type": "code",
   "execution_count": 10,
   "metadata": {},
   "outputs": [
    {
     "name": "stdout",
     "output_type": "stream",
     "text": [
      "Summary of Flight and Aircraft related columns:\n",
      "+-------+-----------+--------------------+------------+-------------+-----------------+\n",
      "|summary|Operator ID|            Operator|    Aircraft|Aircraft Type|    Aircraft Make|\n",
      "+-------+-----------+--------------------+------------+-------------+-----------------+\n",
      "|  count|     174104|              174104|      174104|       133074|           131051|\n",
      "|   mean|       null|                null|        null|         null|286.6323573244499|\n",
      "| stddev|       null|                null|        null|         null|196.9489936339077|\n",
      "|    min|       1AAH|         1US AIRWAYS|        A-10|            A|              04A|\n",
      "|    25%|       null|                null|        null|         null|            148.0|\n",
      "|    50%|       null|                null|        null|         null|            188.0|\n",
      "|    75%|       null|                null|        null|         null|            345.0|\n",
      "|    max|        ZAN|ZANTOP INTL AIRLINES|ZODIAC CH601|            J|                Q|\n",
      "+-------+-----------+--------------------+------------+-------------+-----------------+\n",
      "\n",
      "+-------+------------------+------------------+------------------+------------------+------------------+-----------+\n",
      "|summary|    Aircraft Model|     Aircraft Mass|       Engine Make|      Engine Model|           Engines|Engine Type|\n",
      "+-------+------------------+------------------+------------------+------------------+------------------+-----------+\n",
      "|  count|            122439|            127320|            123434|            121988|            127342|     127282|\n",
      "|   mean|24.792463001078115|3.5106110587496073| 21.30695756436638|  9.89922270871255| 2.057655761649731|       null|\n",
      "| stddev| 21.93309184091721|0.8737831085585885|11.023161431330832|12.698140051611903|0.4693735577596729|       null|\n",
      "|    min|                 0|                 1|                 1|                 0|                 1|          A|\n",
      "|    25%|              10.0|                 3|                10|               1.0|                 2|       null|\n",
      "|    50%|              22.0|                 4|                22|               4.0|                 2|       null|\n",
      "|    75%|              37.0|                 4|                34|              10.0|                 2|       null|\n",
      "|    max|               N33|                 5|                92|                n7|                 4|          c|\n",
      "+-------+------------------+------------------+------------------+------------------+------------------+-----------+\n",
      "\n",
      "+-------+------------------+------------------+------------------+------------------+-----------------+\n",
      "|summary|  Engine1 Position|  Engine2 Position|  Engine3 Position|  Engine4 Position|       Airport ID|\n",
      "+-------+------------------+------------------+------------------+------------------+-----------------+\n",
      "|  count|            126193|            118715|             11659|              3092|           174104|\n",
      "|   mean|2.9844273792824705|2.9185696836962474|3.1018614270941054|2.0585381630012938|         37555.75|\n",
      "| stddev| 2.082704564143294|2.0082042189357057|1.9415220493382075|1.4410002044727284|149985.1359895373|\n",
      "|    min|                 1|                 1|                 1|                 1|              00C|\n",
      "|    25%|               1.0|                 1|               1.0|                 1|             35.0|\n",
      "|    50%|               1.0|                 1|               4.0|                 1|             60.0|\n",
      "|    75%|               5.0|                 5|               5.0|                 4|             83.0|\n",
      "|    max|                 C|                 7|       CHANGE CODE|                 5|             ZZZZ|\n",
      "+-------+------------------+------------------+------------------+------------------+-----------------+\n",
      "\n",
      "+-------+--------------------+------+----------+--------------+------------+----------+-------------+\n",
      "|summary|             Airport| State|FAA Region|Warning Issued|Flight Phase|Visibility|Precipitation|\n",
      "+-------+--------------------+------+----------+--------------+------------+----------+-------------+\n",
      "|  count|              173814|152128|    155202|         76418|      118802|    109933|        88322|\n",
      "|   mean|                null|  null|      null|          null|        null|      null|         null|\n",
      "| stddev|                null|  null|      null|          null|        null|      null|         null|\n",
      "|    min|ABERDEEN REGIONAL AR|    AB|       AAL|             N|    APPROACH|      DAWN|          FOG|\n",
      "|    25%|                null|  null|      null|          null|        null|      null|         null|\n",
      "|    50%|                null|  null|      null|          null|        null|      null|         null|\n",
      "|    75%|                null|  null|      null|          null|        null|      null|         null|\n",
      "|    max|              ZURICH|    WY|       QUE|             y|        TAXI|   UNKNOWN|         SNOW|\n",
      "+-------+--------------------+------+----------+--------------+------------+----------+-------------+\n",
      "\n",
      "+-------+-----------------+-----------------+------------------+\n",
      "|summary|           Height|            Speed|          Distance|\n",
      "+-------+-----------------+-----------------+------------------+\n",
      "|  count|           103677|            71258|             99713|\n",
      "|   mean|831.0322829557182|141.9256223862584|0.7037381284507784|\n",
      "| stddev|1803.650832987521|46.90565144832797|3.4644673446601333|\n",
      "|    min|                0|                0|               0.0|\n",
      "|    25%|                0|              120|               0.0|\n",
      "|    50%|               50|              138|               0.0|\n",
      "|    75%|              800|              160|               0.0|\n",
      "|    max|            31300|             2500|             150.0|\n",
      "+-------+-----------------+-----------------+------------------+\n",
      "\n"
     ]
    }
   ],
   "source": [
    "print (\"Summary of Flight and Aircraft related columns:\")\n",
    "df.select(\"Operator ID\", \"Operator\", \"Aircraft\", \"Aircraft Type\", \"Aircraft Make\").summary().show()\n",
    "df.select(\"Aircraft Model\", \"Aircraft Mass\", \"Engine Make\", \"Engine Model\", \"Engines\", \"Engine Type\").summary().show()\n",
    "df.select(\"Engine1 Position\", \"Engine2 Position\", \"Engine3 Position\", \"Engine4 Position\", \"Airport ID\").summary().show()\n",
    "df.select(\"Airport\", \"State\", \"FAA Region\", \"Warning Issued\", \"Flight Phase\", \"Visibility\", \"Precipitation\").summary().show()\n",
    "df.select(\"Height\", \"Speed\", \"Distance\").summary().show()"
   ]
  },
  {
   "cell_type": "code",
   "execution_count": 11,
   "metadata": {},
   "outputs": [
    {
     "name": "stdout",
     "output_type": "stream",
     "text": [
      "Checking for nulls on Flight and Aircraft related columns:\n",
      "+-----------+--------+--------+-------------+-------------+\n",
      "|Operator ID|Operator|Aircraft|Aircraft Type|Aircraft Make|\n",
      "+-----------+--------+--------+-------------+-------------+\n",
      "|          0|       0|       0|        41030|        43053|\n",
      "+-----------+--------+--------+-------------+-------------+\n",
      "\n",
      "+--------------+-------------+-----------+------------+-------+-----------+\n",
      "|Aircraft Model|Aircraft Mass|Engine Make|Engine Model|Engines|Engine Type|\n",
      "+--------------+-------------+-----------+------------+-------+-----------+\n",
      "|         51665|        46784|      50670|       52116|  46762|      46822|\n",
      "+--------------+-------------+-----------+------------+-------+-----------+\n",
      "\n",
      "+----------------+----------------+----------------+----------------+----------+\n",
      "|Engine1 Position|Engine2 Position|Engine3 Position|Engine4 Position|Airport ID|\n",
      "+----------------+----------------+----------------+----------------+----------+\n",
      "|           47911|           55389|          162445|          171012|         0|\n",
      "+----------------+----------------+----------------+----------------+----------+\n",
      "\n",
      "+-------+-----+----------+--------------+------------+----------+\n",
      "|Airport|State|FAA Region|Warning Issued|Flight Phase|Visibility|\n",
      "+-------+-----+----------+--------------+------------+----------+\n",
      "|    290|21976|     18902|         97686|       55302|     64171|\n",
      "+-------+-----+----------+--------------+------------+----------+\n",
      "\n",
      "+-------------+------+------+--------+\n",
      "|Precipitation|Height| Speed|Distance|\n",
      "+-------------+------+------+--------+\n",
      "|        85782| 70427|102846|   74391|\n",
      "+-------------+------+------+--------+\n",
      "\n"
     ]
    }
   ],
   "source": [
    "print(\"Checking for nulls on Flight and Aircraft related columns:\")\n",
    "df.select([count(when(col(c).isNull(), c)).alias(c) for c in [\"Operator ID\", \"Operator\", \"Aircraft\", \"Aircraft Type\",\\\n",
    "                                                              \"Aircraft Make\"]]).show()\n",
    "df.select([count(when(col(c).isNull(), c)).alias(c) for c in [\"Aircraft Model\", \"Aircraft Mass\", \"Engine Make\",\\\n",
    "                                                              \"Engine Model\", \"Engines\", \"Engine Type\"]]).show()\n",
    "df.select([count(when(col(c).isNull(), c)).alias(c) for c in [\"Engine1 Position\", \"Engine2 Position\", \"Engine3 Position\",\\\n",
    "                                                              \"Engine4 Position\", \"Airport ID\"]]).show()\n",
    "df.select([count(when(col(c).isNull(), c)).alias(c) for c in [\"Airport\", \"State\", \"FAA Region\", \"Warning Issued\",\\\n",
    "                                                              \"Flight Phase\", \"Visibility\"]]).show()\n",
    "df.select([count(when(col(c).isNull(), c)).alias(c) for c in[\"Precipitation\",\"Height\", \"Speed\", \"Distance\"]]).show()"
   ]
  },
  {
   "cell_type": "markdown",
   "metadata": {},
   "source": [
    "As we can see, we have a lot of missing values in many columns but many of them make sense to be NULL. For example, there are many aircraft that only have 1 engine so in features such as **\"Engine2 Position\"**, **\"Engine3 Position\"** and **\"Engine4 Position\"** these single engine aircraft will have no values.\n",
    "\n",
    "For **\"Aircraft Type\"**, **\"Aircraft Make\"** and **\"Aircraft Model\"** we can drop these features since all of them are mostly included in the **\"Aircraft\"** column. For example, in the first record we took from the dataset we had a B-757-200 which is a Boeing (Aircraft Make) and the model is B757-200 (Aircraft Model). Airplanes have a unique model code which is determined by the ICAO, special agency from the UN for International Civil Aircraft Organization.\n",
    "\n",
    "On the other hand, we have several fields such as **\"Visibility\" , \"Distance\", \"State\", Flight Phase\"** that have NULLs and therefore we'll have to evaluate whether we impute those missing values or if we drop those columns. Because we'll not be using these features for our business analysis, we can discard them."
   ]
  },
  {
   "cell_type": "markdown",
   "metadata": {},
   "source": [
    "---"
   ]
  },
  {
   "cell_type": "markdown",
   "metadata": {},
   "source": [
    "As we can saw above, we have almost 22000 missing values for **State** but if we look at the **Airport** variable, we have only 290 missing values. Let's run a query to see which airports are those where **State** is NULL and the airport name is not \"UNKNOWN\":"
   ]
  },
  {
   "cell_type": "code",
   "execution_count": 12,
   "metadata": {},
   "outputs": [
    {
     "name": "stdout",
     "output_type": "stream",
     "text": [
      "+--------------------+-----+\n",
      "|             Airport|State|\n",
      "+--------------------+-----+\n",
      "|     PUERTO VALLARTA| null|\n",
      "|                ORLY| null|\n",
      "| GUADALAJARA, MEXICO| null|\n",
      "|SANTO DOMINGO/LAS AM| null|\n",
      "|            NURNBERG| null|\n",
      "|  HEWANORRA ST LUCIA| null|\n",
      "|    GATWICK - LONDON| null|\n",
      "|      TONCONTIN INTL| null|\n",
      "|        REMOTE_WATER| null|\n",
      "|        TOCUMEN INTL| null|\n",
      "|      FRANKFURT MAIN| null|\n",
      "|       FREEPORT INTL| null|\n",
      "|  MINISTRO PISTARINI| null|\n",
      "|        DHAHRAN INTL| null|\n",
      "|     ST. LUCIA-VIGIE| null|\n",
      "|        BERLIN TEGEL| null|\n",
      "|        BERLIN TEGEL| null|\n",
      "|GENERAL ESCOBEDO ...| null|\n",
      "|   PUERTO PLATA INTL| null|\n",
      "|     PUERTO VALLARTA| null|\n",
      "+--------------------+-----+\n",
      "only showing top 20 rows\n",
      "\n"
     ]
    }
   ],
   "source": [
    "df.select([\"Airport\",\"State\"]).where((col(\"State\").isNull()) & (col(\"Airport\") != \"UNKNOWN\")).show()"
   ]
  },
  {
   "cell_type": "markdown",
   "metadata": {},
   "source": [
    "Berlin, Gatwick, Guadalajara...This dataset is not just for bird airstrikes in the US, it's for all birdstrikes worldwide! As the database seems to have been compliled by the FAA (Federal Aviation Administration in the US), the **State** column is only applicable for US birdstrikes!\n",
    "<br>\n",
    "Now that we have this information, let's impute the missing values of the **State** feature where the **Airport** column is not \"UNKNOWN\" with something to indicate that the incident was abroad, not in the US:"
   ]
  },
  {
   "cell_type": "code",
   "execution_count": 13,
   "metadata": {},
   "outputs": [],
   "source": [
    "df = df.withColumn(\"State\", when(df.State.isNull(), lit(\"NOT USA\")).otherwise(df.State))"
   ]
  },
  {
   "cell_type": "code",
   "execution_count": 14,
   "metadata": {},
   "outputs": [
    {
     "data": {
      "text/plain": [
       "0              KY\n",
       "1              HI\n",
       "2              HI\n",
       "3              SC\n",
       "4              FL\n",
       "           ...   \n",
       "174099    NOT USA\n",
       "174100         TX\n",
       "174101         FL\n",
       "174102         OR\n",
       "174103         GA\n",
       "Name: State, Length: 174104, dtype: object"
      ]
     },
     "execution_count": 14,
     "metadata": {},
     "output_type": "execute_result"
    }
   ],
   "source": [
    "df.toPandas()[\"State\"]"
   ]
  },
  {
   "cell_type": "markdown",
   "metadata": {},
   "source": [
    "As we can see above, for row 174099, **\"NOT USA\"** has been properly imputed. Let's just do a simple count just in case:"
   ]
  },
  {
   "cell_type": "code",
   "execution_count": 15,
   "metadata": {},
   "outputs": [
    {
     "name": "stdout",
     "output_type": "stream",
     "text": [
      "+-----+\n",
      "|State|\n",
      "+-----+\n",
      "|    0|\n",
      "+-----+\n",
      "\n"
     ]
    }
   ],
   "source": [
    "df.select([count(when(isnan(c) | col(c).isNull(), c)).alias(c) for c in [\"State\"]]).show()"
   ]
  },
  {
   "cell_type": "markdown",
   "metadata": {},
   "source": [
    "Perfect! No more NULL values in **State**."
   ]
  },
  {
   "cell_type": "markdown",
   "metadata": {},
   "source": [
    "---"
   ]
  },
  {
   "cell_type": "markdown",
   "metadata": {},
   "source": [
    "To finish these set of columns, let's see the amount of distinct values we have in key variables we'll probably use later:"
   ]
  },
  {
   "cell_type": "code",
   "execution_count": 16,
   "metadata": {
    "scrolled": true
   },
   "outputs": [
    {
     "name": "stdout",
     "output_type": "stream",
     "text": [
      "Checking amount of distinct values in Flight and Aircraft related columns:\n",
      "+--------+--------+-----------+-------+------------+\n",
      "|Operator|Aircraft|Engine Make|Airport|Flight Phase|\n",
      "+--------+--------+-----------+-------+------------+\n",
      "|     533|     656|         34|   2226|          12|\n",
      "+--------+--------+-----------+-------+------------+\n",
      "\n"
     ]
    }
   ],
   "source": [
    "print(\"Checking amount of distinct values in Flight and Aircraft related columns:\")\n",
    "df.select([countDistinct(c).alias(c) for c in [\"Operator\",\"Aircraft\",\"Engine Make\",\"Airport\",\"Flight Phase\"]]).show()"
   ]
  },
  {
   "cell_type": "markdown",
   "metadata": {},
   "source": [
    "We have incidents in 2226 different airports and for 656 different types of aircraft"
   ]
  },
  {
   "cell_type": "markdown",
   "metadata": {},
   "source": [
    "### C. For Bird related columns:"
   ]
  },
  {
   "cell_type": "code",
   "execution_count": 17,
   "metadata": {},
   "outputs": [
    {
     "name": "stdout",
     "output_type": "stream",
     "text": [
      "Summary of Bird related columns:\n",
      "+-------+------------+------------------+----------------+\n",
      "|summary|  Species ID|      Species Name|Species Quantity|\n",
      "+-------+------------+------------------+----------------+\n",
      "|  count|      174104|            174024|          169627|\n",
      "|   mean|    Infinity|              null|             1.0|\n",
      "| stddev|         NaN|              null|             0.0|\n",
      "|    min|100000000000|ACADIAN FLYCATCHER|               1|\n",
      "|    25%|    Infinity|              null|             1.0|\n",
      "|    50%|    Infinity|              null|             1.0|\n",
      "|    75%|    Infinity|              null|             1.0|\n",
      "|    max|       k3317|      ZENAIDA DOVE|        Over 100|\n",
      "+-------+------------+------------------+----------------+\n",
      "\n"
     ]
    }
   ],
   "source": [
    "print (\"Summary of Bird related columns:\")\n",
    "df.select(\"Species ID\", \"Species Name\", \"Species Quantity\").summary().show()"
   ]
  },
  {
   "cell_type": "markdown",
   "metadata": {},
   "source": [
    "**\"Species ID\"** has no missing values but columns **\"Species Name\"** and **\"Species Quantity\"** do have some although they are not many."
   ]
  },
  {
   "cell_type": "code",
   "execution_count": 18,
   "metadata": {},
   "outputs": [
    {
     "name": "stdout",
     "output_type": "stream",
     "text": [
      "Most and least frequent occurrences for Bird species:\n"
     ]
    },
    {
     "data": {
      "text/markdown": [
       "\n",
       "| leastFreqSpecies | leastFreqName | mostFreqSpecies | mostFreqName |\n",
       "|----|----|----|----|\n",
       "| YM1109 (1 occurrences) | CALLIOPE HUMMINGBIRD | UNKBM (38531 occurrences) | UNKNOWN MEDIUM BIRD |\n"
      ],
      "text/plain": [
       "<IPython.core.display.Markdown object>"
      ]
     },
     "metadata": {},
     "output_type": "display_data"
    }
   ],
   "source": [
    "print (\"Most and least frequent occurrences for Bird species:\")\n",
    "speciesIdOccurences = df.groupBy(\"Species ID\").count()\n",
    "speciesNameOccurences = df.groupBy(\"Species Name\").count()\n",
    "\n",
    "leastFreqSpecies = speciesIdOccurences.orderBy(col(\"count\").asc()).first()\n",
    "leastFreqName = speciesNameOccurences.orderBy(col(\"count\").asc()).first()\n",
    "mostFreqSpecies  = speciesIdOccurences.orderBy(col(\"count\").desc()).first()\n",
    "mostFreqName = speciesNameOccurences.orderBy(col(\"count\").desc()).first()\n",
    "\n",
    "display(Markdown(\"\"\"\n",
    "| %s | %s | %s | %s |\n",
    "|----|----|----|----|\n",
    "| %s | %s | %s | %s |\n",
    "\"\"\" % (\"leastFreqSpecies\",\"leastFreqName\", \"mostFreqSpecies\",\"mostFreqName\",\\\n",
    "       \"%s (%d occurrences)\" % (leastFreqSpecies[\"Species ID\"], leastFreqSpecies[\"count\"]), \\\n",
    "       \"%s\" % (leastFreqName[\"Species Name\"]), \\\n",
    "       \"%s (%d occurrences)\" % (mostFreqSpecies[\"Species ID\"], mostFreqSpecies[\"count\"]), \\\n",
    "       \"%s\" % (mostFreqName[\"Species Name\"]))))"
   ]
  },
  {
   "cell_type": "markdown",
   "metadata": {},
   "source": [
    "The bird species mostly involved in air strikes is an unknown species of medium size while the least amount of reported incidents has been with the **Calliope Hummingbird**."
   ]
  },
  {
   "cell_type": "markdown",
   "metadata": {},
   "source": [
    "### D. For Damage Evaluation related columns:"
   ]
  },
  {
   "cell_type": "code",
   "execution_count": 19,
   "metadata": {},
   "outputs": [
    {
     "name": "stdout",
     "output_type": "stream",
     "text": [
      "Summary of Damage Evaluation related columns:\n",
      "+-------+--------------------+-------------------+------------------+------------------+\n",
      "|summary|       Flight Impact|         Fatalities|          Injuries|   Aircraft Damage|\n",
      "+-------+--------------------+-------------------+------------------+------------------+\n",
      "|  count|               99465|                565|               229|            174104|\n",
      "|   mean|                null|0.04601769911504425|1.7467248908296944|0.0859773468731333|\n",
      "| stddev|                null|0.43516431196685945| 6.571239183141423|0.2803314004351369|\n",
      "|    min|     ABORTED TAKEOFF|                  0|                 1|                 0|\n",
      "|    25%|                null|                  0|                 1|                 0|\n",
      "|    50%|                null|                  0|                 1|                 0|\n",
      "|    75%|                null|                  0|                 1|                 0|\n",
      "|    max|PRECAUTIONARY LAN...|                  8|               100|                 1|\n",
      "+-------+--------------------+-------------------+------------------+------------------+\n",
      "\n",
      "+-------+-------------------+-------------------+-------------------+--------------------+\n",
      "|summary|      Radome Strike|      Radome Damage|  Windshield Strike|   Windshield Damage|\n",
      "+-------+-------------------+-------------------+-------------------+--------------------+\n",
      "|  count|             174104|             174104|             174104|              174104|\n",
      "|   mean|0.10775743233929146|0.00914970362541929|0.13893420024812755|0.005956210081330699|\n",
      "| stddev|0.31007470124136527|0.09521574776019318|0.34587884494441035|  0.0769465246120444|\n",
      "|    min|                  0|                  0|                  0|                   0|\n",
      "|    25%|                  0|                  0|                  0|                   0|\n",
      "|    50%|                  0|                  0|                  0|                   0|\n",
      "|    75%|                  0|                  0|                  0|                   0|\n",
      "|    max|                  1|                  1|                  1|                   1|\n",
      "+-------+-------------------+-------------------+-------------------+--------------------+\n",
      "\n",
      "+-------+-------------------+--------------------+-------------------+--------------------+\n",
      "|summary|        Nose Strike|         Nose Damage|     Engine1 Strike|      Engine1 Damage|\n",
      "+-------+-------------------+--------------------+-------------------+--------------------+\n",
      "|  count|             174104|              174104|             174104|              174104|\n",
      "|   mean|0.12236938841152414|0.006576528971189634|0.05560469604374397|0.014445388962918715|\n",
      "| stddev|0.32771288964504985| 0.08082892899973061|0.22915740319889844| 0.11931806850788254|\n",
      "|    min|                  0|                   0|                  0|                   0|\n",
      "|    25%|                  0|                   0|                  0|                   0|\n",
      "|    50%|                  0|                   0|                  0|                   0|\n",
      "|    75%|                  0|                   0|                  0|                   0|\n",
      "|    max|                  1|                   1|                  1|                   1|\n",
      "+-------+-------------------+--------------------+-------------------+--------------------+\n",
      "\n",
      "+-------+--------------------+--------------------+--------------------+--------------------+--------------------+--------------------+\n",
      "|summary|      Engine2 Strike|      Engine2 Damage|      Engine3 Strike|      Engine3 Damage|      Engine4 Strike|      Engine4 Damage|\n",
      "+-------+--------------------+--------------------+--------------------+--------------------+--------------------+--------------------+\n",
      "|  count|              174104|              174104|              174104|              174104|              174104|              174104|\n",
      "|   mean|0.045168405091209854|0.011619491798005789|0.003182006157239351|9.706841887607407E-4|0.001918393603823...|4.250333134218628E-4|\n",
      "| stddev| 0.20767394634239672| 0.10716597021474966|0.056319616586685856|0.031140769593877224| 0.04375756354498678|0.020612013495575655|\n",
      "|    min|                   0|                   0|                   0|                   0|                   0|                   0|\n",
      "|    25%|                   0|                   0|                   0|                   0|                   0|                   0|\n",
      "|    50%|                   0|                   0|                   0|                   0|                   0|                   0|\n",
      "|    75%|                   0|                   0|                   0|                   0|                   0|                   0|\n",
      "|    max|                   1|                   1|                   1|                   1|                   1|                   1|\n",
      "+-------+--------------------+--------------------+--------------------+--------------------+--------------------+--------------------+\n",
      "\n",
      "+-------+--------------------+--------------------+--------------------+--------------------+--------------------+-------------------+\n",
      "|summary|     Engine Ingested|    Propeller Strike|    Propeller Damage|Wing or Rotor Strike|Wing or Rotor Damage|    Fuselage Strike|\n",
      "+-------+--------------------+--------------------+--------------------+--------------------+--------------------+-------------------+\n",
      "|  count|              174104|              174104|              174104|              174104|              174104|             174104|\n",
      "|   mean|0.055179662730322106|0.020085695905895328|0.003325598492854...|  0.1191586637871617|0.024008638514910627|0.10270298212562606|\n",
      "| stddev| 0.22833126592673664| 0.14029388359936476| 0.05757219750299373|  0.3239760477140798|   0.153076315541803| 0.3035714230649754|\n",
      "|    min|                   0|                   0|                   0|                   0|                   0|                  0|\n",
      "|    25%|                   0|                   0|                   0|                   0|                   0|                  0|\n",
      "|    50%|                   0|                   0|                   0|                   0|                   0|                  0|\n",
      "|    75%|                   0|                   0|                   0|                   0|                   0|                  0|\n",
      "|    max|                   1|                   1|                   1|                   1|                   1|                  1|\n",
      "+-------+--------------------+--------------------+--------------------+--------------------+--------------------+-------------------+\n",
      "\n",
      "+-------+--------------------+-------------------+--------------------+--------------------+\n",
      "|summary|     Fuselage Damage|Landing Gear Strike| Landing Gear Damage|         Tail Strike|\n",
      "+-------+--------------------+-------------------+--------------------+--------------------+\n",
      "|  count|              174104|             174104|              174104|              174104|\n",
      "|   mean|0.004732803381886689|0.04624247576161375|0.005812617745715205|0.011234664338556265|\n",
      "| stddev| 0.06863257979492465|0.21001038669310462|  0.0760188424844981| 0.10539691864392725|\n",
      "|    min|                   0|                  0|                   0|                   0|\n",
      "|    25%|                   0|                  0|                   0|                   0|\n",
      "|    50%|                   0|                  0|                   0|                   0|\n",
      "|    75%|                   0|                  0|                   0|                   0|\n",
      "|    max|                   1|                  1|                   1|                   1|\n",
      "+-------+--------------------+-------------------+--------------------+--------------------+\n",
      "\n",
      "+-------+--------------------+--------------------+--------------------+-------------------+--------------------+\n",
      "|summary|         Tail Damage|       Lights Strike|       Lights Damage|       Other Strike|        Other Damage|\n",
      "+-------+--------------------+--------------------+--------------------+-------------------+--------------------+\n",
      "|  count|              174104|              174104|              174104|             174104|              174104|\n",
      "|   mean|0.004175665119698571|0.005961953774755319|0.004215870973670...|0.09072738133529384|0.008988880209529936|\n",
      "| stddev|  0.0644845161588119| 0.07698339380421078| 0.06479291256246539|0.28722186101574854| 0.09438289785593812|\n",
      "|    min|                   0|                   0|                   0|                  0|                   0|\n",
      "|    25%|                   0|                   0|                   0|                  0|                   0|\n",
      "|    50%|                   0|                   0|                   0|                  0|                   0|\n",
      "|    75%|                   0|                   0|                   0|                  0|                   0|\n",
      "|    max|                   1|                   1|                   1|                  1|                   1|\n",
      "+-------+--------------------+--------------------+--------------------+-------------------+--------------------+\n",
      "\n"
     ]
    }
   ],
   "source": [
    "print (\"Summary of Damage Evaluation related columns:\")\n",
    "df.select(\"Flight Impact\", \"Fatalities\", \"Injuries\", \"Aircraft Damage\").summary().show()\n",
    "df.select(\"Radome Strike\", \"Radome Damage\", \"Windshield Strike\", \"Windshield Damage\").summary().show()\n",
    "df.select(\"Nose Strike\", \"Nose Damage\", \"Engine1 Strike\", \"Engine1 Damage\").summary().show()\n",
    "df.select(\"Engine2 Strike\", \"Engine2 Damage\", \"Engine3 Strike\", \"Engine3 Damage\",\"Engine4 Strike\", \"Engine4 Damage\").summary().show()\n",
    "df.select(\"Engine Ingested\", \"Propeller Strike\", \"Propeller Damage\", \"Wing or Rotor Strike\", \"Wing or Rotor Damage\", \"Fuselage Strike\").summary().show()\n",
    "df.select(\"Fuselage Damage\", \"Landing Gear Strike\", \"Landing Gear Damage\", \"Tail Strike\").summary().show()\n",
    "df.select(\"Tail Damage\", \"Lights Strike\", \"Lights Damage\", \"Other Strike\", \"Other Damage\").summary().show()"
   ]
  },
  {
   "cell_type": "markdown",
   "metadata": {},
   "source": [
    "With the mean of each dummy encoded column, we can already see a general overview of which type of damages occured the most. In most cases, the average is near 0 which makes sense because of all 174104 records, not all were specifically of one type of damage."
   ]
  },
  {
   "cell_type": "markdown",
   "metadata": {},
   "source": [
    "There are a lot of missing values for **Fatalities** and **Injuries**. Let's take a closer look at these 2 variables:"
   ]
  },
  {
   "cell_type": "code",
   "execution_count": 20,
   "metadata": {},
   "outputs": [
    {
     "name": "stdout",
     "output_type": "stream",
     "text": [
      "Checking for nulls on columns Fatalities and Injuries:\n",
      "+----------+--------+\n",
      "|Fatalities|Injuries|\n",
      "+----------+--------+\n",
      "|    173539|  173875|\n",
      "+----------+--------+\n",
      "\n"
     ]
    }
   ],
   "source": [
    "print(\"Checking for nulls on columns Fatalities and Injuries:\")\n",
    "df.select([count(when(col(c).isNull(), c)).alias(c) for c in [\"Fatalities\",\"Injuries\"]]).show()"
   ]
  },
  {
   "cell_type": "markdown",
   "metadata": {},
   "source": [
    "The amount of **Fatalities** and **Injuries** make sense for the type of strikes and the average aircraft damage (close to 0 or none) so for these 2 columns, we'll impute the missing values with zeros:"
   ]
  },
  {
   "cell_type": "code",
   "execution_count": 21,
   "metadata": {},
   "outputs": [],
   "source": [
    "df = df.withColumn(\"Fatalities\", when(df.Fatalities.isNull(), lit(0)).otherwise(df.Fatalities))"
   ]
  },
  {
   "cell_type": "code",
   "execution_count": 22,
   "metadata": {},
   "outputs": [],
   "source": [
    "df = df.withColumn(\"Injuries\", when(df.Injuries.isNull(), lit(0)).otherwise(df.Injuries))"
   ]
  },
  {
   "cell_type": "markdown",
   "metadata": {},
   "source": [
    "Let's count the missing values for these columns once again:"
   ]
  },
  {
   "cell_type": "code",
   "execution_count": 23,
   "metadata": {},
   "outputs": [
    {
     "name": "stdout",
     "output_type": "stream",
     "text": [
      "Checking for nulls on columns Fatalities and Injuries:\n",
      "+----------+--------+\n",
      "|Fatalities|Injuries|\n",
      "+----------+--------+\n",
      "|         0|       0|\n",
      "+----------+--------+\n",
      "\n"
     ]
    }
   ],
   "source": [
    "print(\"Checking for nulls on columns Fatalities and Injuries:\")\n",
    "df.select([count(when(col(c).isNull(), c)).alias(c) for c in [\"Fatalities\",\"Injuries\"]]).show()"
   ]
  },
  {
   "cell_type": "markdown",
   "metadata": {},
   "source": [
    "Perfect! We got rid of those Null values!"
   ]
  },
  {
   "cell_type": "markdown",
   "metadata": {},
   "source": [
    "## Get some business insights"
   ]
  },
  {
   "cell_type": "markdown",
   "metadata": {},
   "source": [
    "For our analysis, we'll drop columns which don't add much value to because of redundancy, irrelevance or because of the high number of missing values and the difficulty to impute these missing values to columns that don't have a mean (categorical variables)."
   ]
  },
  {
   "cell_type": "code",
   "execution_count": 24,
   "metadata": {},
   "outputs": [],
   "source": [
    "df = df.drop(\"Aircraft Type\", \"Aircraft Make\",\"Aircraft Model\",\"Height\",\"Speed\",\"Distance\",\"Engine1 Position\",\n",
    "            \"Engine2 Position\",\"Engine3 Position\",\"Engine4 Position\",\"Engine Make\",\"Warning Issued\",\n",
    "             \"Precipitation\",\"Aircraft Mass\")"
   ]
  },
  {
   "cell_type": "markdown",
   "metadata": {},
   "source": [
    "Our analysis will focus on the strikes themselves and the overall damage of the aircraft and not by parts such as wing damage, engine damage, etc. Therefore we'll drop all **damage** related features except for **Aircraft Damage**:"
   ]
  },
  {
   "cell_type": "code",
   "execution_count": 25,
   "metadata": {},
   "outputs": [
    {
     "data": {
      "text/plain": [
       "38"
      ]
     },
     "execution_count": 25,
     "metadata": {},
     "output_type": "execute_result"
    }
   ],
   "source": [
    "df = df.drop(\"Radome Damage\",\"Windshield Damage\",\"Nose Damage\",\"Engine1 Damage\",\"Engine2 Damage\",\"Engine3 Damage\",\n",
    "            \"Engine4 Damage\",\"Propeller Damage\",\"Wing or Rotor Damage\",\"Fuselage Damage\",\"Landing Gear Damage\",\n",
    "            \"Tail Damage\",\"Lights Damage\",\"Other Damage\")\n",
    "len(df.columns)"
   ]
  },
  {
   "cell_type": "markdown",
   "metadata": {},
   "source": [
    "Let's find out which **Aircraft** was the most involved in birdstrikes by aggregating each type of damage by **Aircraft**."
   ]
  },
  {
   "cell_type": "code",
   "execution_count": 26,
   "metadata": {},
   "outputs": [],
   "source": [
    "df_final = df.groupBy([\"Aircraft\"]).agg(\n",
    "    sum(\"Aircraft Damage\").alias(\"Aircraft_Damage\"),sum(\"Engine Ingested\").alias(\"Engine_Ingested\"),\\\n",
    "    sum(\"Fatalities\").alias(\"Fatalities\"),sum(\"Injuries\").alias(\"Injuries\"),sum(\"Radome Strike\").alias(\"Randome_Strikes\"),\\\n",
    "    sum(\"Windshield Strike\").alias(\"Windshield_Strikes\"), sum(\"Nose Strike\").alias(\"Nose_Strikes\"),\\\n",
    "    sum(\"Engine1 Strike\").alias(\"Engine1_Strikes\"), sum(\"Engine2 Strike\").alias(\"Engine2_Strikes\"),\\\n",
    "    sum(\"Engine3 Strike\").alias(\"Engine3_Strikes\"), sum(\"Engine4 Strike\").alias(\"Engine4_Strikes\"),\\\n",
    "    sum(\"Propeller Strike\").alias(\"Propeller_Strikes\"),sum(\"Wing or Rotor Strike\").alias(\"Wing_or_rotor_strikes\"),\\\n",
    "    sum(\"Fuselage Strike\").alias(\"Fuselage_Strikes\"),sum(\"Landing Gear Strike\").alias(\"Landing_Gear_Strikes\"),\\\n",
    "    sum(\"Tail Strike\").alias(\"Tail_Strikes\"), sum(\"Lights Strike\").alias(\"Lights_Strike\"),\\\n",
    "    sum(\"Other Strike\").alias(\"Other_Strikes\")).orderBy([\"Aircraft_Damage\",\"Injuries\"], ascending=[0,0])"
   ]
  },
  {
   "cell_type": "code",
   "execution_count": 27,
   "metadata": {},
   "outputs": [],
   "source": [
    "df_final = df_final.withColumn(\"Total_Aircraft_Strikes\",\\\n",
    "                            col(\"Randome_Strikes\")+\\\n",
    "                            col(\"Windshield_Strikes\")+col(\"Nose_Strikes\")+\\\n",
    "                            col(\"Engine1_Strikes\")+col(\"Engine2_Strikes\")+col(\"Engine3_Strikes\")+\\\n",
    "                            col(\"Engine4_Strikes\")+col(\"Propeller_Strikes\")+col(\"Wing_or_rotor_strikes\")+\\\n",
    "                            col(\"Fuselage_Strikes\")+col(\"Landing_Gear_Strikes\")+col(\"Tail_Strikes\")+\\\n",
    "                            col(\"Lights_Strike\")+col(\"Other_Strikes\"))"
   ]
  },
  {
   "cell_type": "code",
   "execution_count": 28,
   "metadata": {},
   "outputs": [],
   "source": [
    "df_final = df_final.select(\"Aircraft\", \"Total_Aircraft_Strikes\",\"Aircraft_Damage\",\"Fatalities\",\\\n",
    "                           \"Injuries\",\"Randome_Strikes\", \"Windshield_Strikes\", \"Nose_Strikes\",\\\n",
    "                           \"Engine1_Strikes\", \"Engine2_Strikes\", \"Engine3_Strikes\",\\\n",
    "                           \"Engine4_Strikes\",\"Propeller_Strikes\",\"Wing_or_rotor_strikes\",\\\n",
    "                           \"Fuselage_Strikes\",\"Landing_Gear_Strikes\",\"Tail_Strikes\",\\\n",
    "                           \"Lights_Strike\", \"Other_Strikes\").orderBy([\"Total_Aircraft_Strikes\",\n",
    "                                                                      \"Aircraft_Damage\"], ascending=[0,0])"
   ]
  },
  {
   "cell_type": "code",
   "execution_count": 29,
   "metadata": {},
   "outputs": [
    {
     "data": {
      "text/html": [
       "<div>\n",
       "<style scoped>\n",
       "    .dataframe tbody tr th:only-of-type {\n",
       "        vertical-align: middle;\n",
       "    }\n",
       "\n",
       "    .dataframe tbody tr th {\n",
       "        vertical-align: top;\n",
       "    }\n",
       "\n",
       "    .dataframe thead th {\n",
       "        text-align: right;\n",
       "    }\n",
       "</style>\n",
       "<table border=\"1\" class=\"dataframe\">\n",
       "  <thead>\n",
       "    <tr style=\"text-align: right;\">\n",
       "      <th></th>\n",
       "      <th>Aircraft</th>\n",
       "      <th>Total_Aircraft_Strikes</th>\n",
       "      <th>Aircraft_Damage</th>\n",
       "      <th>Fatalities</th>\n",
       "      <th>Injuries</th>\n",
       "      <th>Randome_Strikes</th>\n",
       "      <th>Windshield_Strikes</th>\n",
       "      <th>Nose_Strikes</th>\n",
       "      <th>Engine1_Strikes</th>\n",
       "      <th>Engine2_Strikes</th>\n",
       "      <th>Engine3_Strikes</th>\n",
       "      <th>Engine4_Strikes</th>\n",
       "      <th>Propeller_Strikes</th>\n",
       "      <th>Wing_or_rotor_strikes</th>\n",
       "      <th>Fuselage_Strikes</th>\n",
       "      <th>Landing_Gear_Strikes</th>\n",
       "      <th>Tail_Strikes</th>\n",
       "      <th>Lights_Strike</th>\n",
       "      <th>Other_Strikes</th>\n",
       "    </tr>\n",
       "  </thead>\n",
       "  <tbody>\n",
       "    <tr>\n",
       "      <th>0</th>\n",
       "      <td>B-737-300</td>\n",
       "      <td>9957</td>\n",
       "      <td>975</td>\n",
       "      <td>0</td>\n",
       "      <td>2</td>\n",
       "      <td>1605</td>\n",
       "      <td>1429</td>\n",
       "      <td>1239</td>\n",
       "      <td>1118</td>\n",
       "      <td>982</td>\n",
       "      <td>0</td>\n",
       "      <td>0</td>\n",
       "      <td>0</td>\n",
       "      <td>1145</td>\n",
       "      <td>1376</td>\n",
       "      <td>345</td>\n",
       "      <td>140</td>\n",
       "      <td>54</td>\n",
       "      <td>524</td>\n",
       "    </tr>\n",
       "    <tr>\n",
       "      <th>1</th>\n",
       "      <td>B-737-700</td>\n",
       "      <td>8829</td>\n",
       "      <td>289</td>\n",
       "      <td>0</td>\n",
       "      <td>0</td>\n",
       "      <td>1508</td>\n",
       "      <td>1186</td>\n",
       "      <td>1125</td>\n",
       "      <td>668</td>\n",
       "      <td>581</td>\n",
       "      <td>0</td>\n",
       "      <td>0</td>\n",
       "      <td>0</td>\n",
       "      <td>1456</td>\n",
       "      <td>1197</td>\n",
       "      <td>338</td>\n",
       "      <td>105</td>\n",
       "      <td>35</td>\n",
       "      <td>630</td>\n",
       "    </tr>\n",
       "    <tr>\n",
       "      <th>2</th>\n",
       "      <td>A-320</td>\n",
       "      <td>7943</td>\n",
       "      <td>515</td>\n",
       "      <td>0</td>\n",
       "      <td>100</td>\n",
       "      <td>1370</td>\n",
       "      <td>1165</td>\n",
       "      <td>1141</td>\n",
       "      <td>482</td>\n",
       "      <td>477</td>\n",
       "      <td>0</td>\n",
       "      <td>0</td>\n",
       "      <td>2</td>\n",
       "      <td>747</td>\n",
       "      <td>1154</td>\n",
       "      <td>354</td>\n",
       "      <td>35</td>\n",
       "      <td>46</td>\n",
       "      <td>970</td>\n",
       "    </tr>\n",
       "    <tr>\n",
       "      <th>3</th>\n",
       "      <td>CRJ100/200</td>\n",
       "      <td>7236</td>\n",
       "      <td>380</td>\n",
       "      <td>0</td>\n",
       "      <td>0</td>\n",
       "      <td>548</td>\n",
       "      <td>1245</td>\n",
       "      <td>1551</td>\n",
       "      <td>171</td>\n",
       "      <td>173</td>\n",
       "      <td>0</td>\n",
       "      <td>0</td>\n",
       "      <td>1</td>\n",
       "      <td>1053</td>\n",
       "      <td>690</td>\n",
       "      <td>359</td>\n",
       "      <td>73</td>\n",
       "      <td>9</td>\n",
       "      <td>1363</td>\n",
       "    </tr>\n",
       "    <tr>\n",
       "      <th>4</th>\n",
       "      <td>B-757-200</td>\n",
       "      <td>6967</td>\n",
       "      <td>680</td>\n",
       "      <td>0</td>\n",
       "      <td>0</td>\n",
       "      <td>1233</td>\n",
       "      <td>1209</td>\n",
       "      <td>848</td>\n",
       "      <td>644</td>\n",
       "      <td>525</td>\n",
       "      <td>0</td>\n",
       "      <td>0</td>\n",
       "      <td>0</td>\n",
       "      <td>621</td>\n",
       "      <td>1009</td>\n",
       "      <td>282</td>\n",
       "      <td>26</td>\n",
       "      <td>41</td>\n",
       "      <td>529</td>\n",
       "    </tr>\n",
       "  </tbody>\n",
       "</table>\n",
       "</div>"
      ],
      "text/plain": [
       "     Aircraft  Total_Aircraft_Strikes  Aircraft_Damage  Fatalities  Injuries  \\\n",
       "0   B-737-300                    9957              975           0         2   \n",
       "1   B-737-700                    8829              289           0         0   \n",
       "2       A-320                    7943              515           0       100   \n",
       "3  CRJ100/200                    7236              380           0         0   \n",
       "4   B-757-200                    6967              680           0         0   \n",
       "\n",
       "   Randome_Strikes  Windshield_Strikes  Nose_Strikes  Engine1_Strikes  \\\n",
       "0             1605                1429          1239             1118   \n",
       "1             1508                1186          1125              668   \n",
       "2             1370                1165          1141              482   \n",
       "3              548                1245          1551              171   \n",
       "4             1233                1209           848              644   \n",
       "\n",
       "   Engine2_Strikes  Engine3_Strikes  Engine4_Strikes  Propeller_Strikes  \\\n",
       "0              982                0                0                  0   \n",
       "1              581                0                0                  0   \n",
       "2              477                0                0                  2   \n",
       "3              173                0                0                  1   \n",
       "4              525                0                0                  0   \n",
       "\n",
       "   Wing_or_rotor_strikes  Fuselage_Strikes  Landing_Gear_Strikes  \\\n",
       "0                   1145              1376                   345   \n",
       "1                   1456              1197                   338   \n",
       "2                    747              1154                   354   \n",
       "3                   1053               690                   359   \n",
       "4                    621              1009                   282   \n",
       "\n",
       "   Tail_Strikes  Lights_Strike  Other_Strikes  \n",
       "0           140             54            524  \n",
       "1           105             35            630  \n",
       "2            35             46            970  \n",
       "3            73              9           1363  \n",
       "4            26             41            529  "
      ]
     },
     "execution_count": 29,
     "metadata": {},
     "output_type": "execute_result"
    }
   ],
   "source": [
    "df_final.toPandas().head(5)"
   ]
  },
  {
   "cell_type": "markdown",
   "metadata": {},
   "source": [
    "As we can see above, after doing the aggregation and sorting our data in descending order first by **Total_Aircraft_Strikes** and then by **Aircraft_Damage** (to see how serious the impact was), the top 3 results are 2 Boeing aircraft (different variants of the popular 737) and in third place an Airbus A320. Let's categorize the occurence of bird strikes and see how many airplanes there are per category."
   ]
  },
  {
   "cell_type": "code",
   "execution_count": 30,
   "metadata": {},
   "outputs": [
    {
     "data": {
      "text/html": [
       "<div>\n",
       "<style scoped>\n",
       "    .dataframe tbody tr th:only-of-type {\n",
       "        vertical-align: middle;\n",
       "    }\n",
       "\n",
       "    .dataframe tbody tr th {\n",
       "        vertical-align: top;\n",
       "    }\n",
       "\n",
       "    .dataframe thead th {\n",
       "        text-align: right;\n",
       "    }\n",
       "</style>\n",
       "<table border=\"1\" class=\"dataframe\">\n",
       "  <thead>\n",
       "    <tr style=\"text-align: right;\">\n",
       "      <th></th>\n",
       "      <th>Strike_Occurence</th>\n",
       "      <th>Number_of_Aircraft_Involved</th>\n",
       "      <th>Injuries</th>\n",
       "      <th>Fatalities</th>\n",
       "    </tr>\n",
       "  </thead>\n",
       "  <tbody>\n",
       "    <tr>\n",
       "      <th>0</th>\n",
       "      <td>1.very low</td>\n",
       "      <td>637</td>\n",
       "      <td>251</td>\n",
       "      <td>23</td>\n",
       "    </tr>\n",
       "    <tr>\n",
       "      <th>1</th>\n",
       "      <td>2.low</td>\n",
       "      <td>11</td>\n",
       "      <td>39</td>\n",
       "      <td>3</td>\n",
       "    </tr>\n",
       "    <tr>\n",
       "      <th>2</th>\n",
       "      <td>3.medium</td>\n",
       "      <td>3</td>\n",
       "      <td>8</td>\n",
       "      <td>0</td>\n",
       "    </tr>\n",
       "    <tr>\n",
       "      <th>3</th>\n",
       "      <td>4.high</td>\n",
       "      <td>3</td>\n",
       "      <td>100</td>\n",
       "      <td>0</td>\n",
       "    </tr>\n",
       "    <tr>\n",
       "      <th>4</th>\n",
       "      <td>5.very high</td>\n",
       "      <td>2</td>\n",
       "      <td>2</td>\n",
       "      <td>0</td>\n",
       "    </tr>\n",
       "  </tbody>\n",
       "</table>\n",
       "</div>"
      ],
      "text/plain": [
       "  Strike_Occurence  Number_of_Aircraft_Involved  Injuries  Fatalities\n",
       "0       1.very low                          637       251          23\n",
       "1            2.low                           11        39           3\n",
       "2         3.medium                            3         8           0\n",
       "3           4.high                            3       100           0\n",
       "4      5.very high                            2         2           0"
      ]
     },
     "execution_count": 30,
     "metadata": {},
     "output_type": "execute_result"
    }
   ],
   "source": [
    "df_final = df_final\\\n",
    "   .withColumn(\"Strike_Occurence\", when(col(\"Total_Aircraft_Strikes\")<=2000,\"1.very low\")\n",
    "                        .when((col(\"Total_Aircraft_Strikes\")>2000) & (col(\"Total_Aircraft_Strikes\")<=4000),\"2.low\")\\\n",
    "                        .when((col(\"Total_Aircraft_Strikes\")>4000) & (col(\"Total_Aircraft_Strikes\")<=6000),\"3.medium\")\\\n",
    "                        .when((col(\"Total_Aircraft_Strikes\")>6000) & (col(\"Total_Aircraft_Strikes\")<=8000),\"4.high\")\\\n",
    "                        .otherwise(\"5.very high\"))\\\n",
    "    .cache()\n",
    "\n",
    "df_Occ = df_final.select(\"Strike_Occurence\", \"Total_Aircraft_Strikes\",\"Injuries\",\"Fatalities\",\"Aircraft\")\\\n",
    "                     .groupBy(\"Strike_Occurence\")\\\n",
    "                     .agg(count(\"Strike_Occurence\").alias(\"Number_of_Aircraft_Involved\"),\n",
    "                         sum(\"Injuries\").alias(\"Injuries\"), sum(\"Fatalities\").alias(\"Fatalities\"))\\\n",
    "                     .orderBy(\"Strike_Occurence\")\\\n",
    "                     .select(\"Strike_Occurence\",\"Number_of_Aircraft_Involved\",\"Injuries\",\"Fatalities\")\n",
    "df_Occ.toPandas()"
   ]
  },
  {
   "cell_type": "markdown",
   "metadata": {},
   "source": [
    "There is a strange relationship as we can see since there are more injuries in the least occurent strike category rather than in the very high. Let's add the top aircraft per category of **Strike_Occurence** to see if you can make sense of this. We'll do it by grouping by strike category and aircraft and get the aircraft with the highest **Total_Aircraft_Strike** per category:"
   ]
  },
  {
   "cell_type": "code",
   "execution_count": 31,
   "metadata": {
    "scrolled": true
   },
   "outputs": [
    {
     "data": {
      "text/html": [
       "<div>\n",
       "<style scoped>\n",
       "    .dataframe tbody tr th:only-of-type {\n",
       "        vertical-align: middle;\n",
       "    }\n",
       "\n",
       "    .dataframe tbody tr th {\n",
       "        vertical-align: top;\n",
       "    }\n",
       "\n",
       "    .dataframe thead th {\n",
       "        text-align: right;\n",
       "    }\n",
       "</style>\n",
       "<table border=\"1\" class=\"dataframe\">\n",
       "  <thead>\n",
       "    <tr style=\"text-align: right;\">\n",
       "      <th></th>\n",
       "      <th>Strike_Occurence</th>\n",
       "      <th>Number_of_Aircraft_Involved</th>\n",
       "      <th>Injuries</th>\n",
       "      <th>Fatalities</th>\n",
       "      <th>Aircraft</th>\n",
       "    </tr>\n",
       "  </thead>\n",
       "  <tbody>\n",
       "    <tr>\n",
       "      <th>0</th>\n",
       "      <td>1.very low</td>\n",
       "      <td>637</td>\n",
       "      <td>251</td>\n",
       "      <td>23</td>\n",
       "      <td>EMB-170</td>\n",
       "    </tr>\n",
       "    <tr>\n",
       "      <th>1</th>\n",
       "      <td>2.low</td>\n",
       "      <td>11</td>\n",
       "      <td>39</td>\n",
       "      <td>3</td>\n",
       "      <td>B-727-200</td>\n",
       "    </tr>\n",
       "    <tr>\n",
       "      <th>2</th>\n",
       "      <td>3.medium</td>\n",
       "      <td>3</td>\n",
       "      <td>8</td>\n",
       "      <td>0</td>\n",
       "      <td>A-319</td>\n",
       "    </tr>\n",
       "    <tr>\n",
       "      <th>3</th>\n",
       "      <td>4.high</td>\n",
       "      <td>3</td>\n",
       "      <td>100</td>\n",
       "      <td>0</td>\n",
       "      <td>A-320</td>\n",
       "    </tr>\n",
       "    <tr>\n",
       "      <th>4</th>\n",
       "      <td>5.very high</td>\n",
       "      <td>2</td>\n",
       "      <td>2</td>\n",
       "      <td>0</td>\n",
       "      <td>B-737-300</td>\n",
       "    </tr>\n",
       "  </tbody>\n",
       "</table>\n",
       "</div>"
      ],
      "text/plain": [
       "  Strike_Occurence  Number_of_Aircraft_Involved  Injuries  Fatalities  \\\n",
       "0       1.very low                          637       251          23   \n",
       "1            2.low                           11        39           3   \n",
       "2         3.medium                            3         8           0   \n",
       "3           4.high                            3       100           0   \n",
       "4      5.very high                            2         2           0   \n",
       "\n",
       "    Aircraft  \n",
       "0    EMB-170  \n",
       "1  B-727-200  \n",
       "2      A-319  \n",
       "3      A-320  \n",
       "4  B-737-300  "
      ]
     },
     "execution_count": 31,
     "metadata": {},
     "output_type": "execute_result"
    }
   ],
   "source": [
    "from pyspark.sql.functions import row_number\n",
    "from pyspark.sql.window import Window\n",
    "\n",
    "Sums = df_final.groupBy(\"Strike_Occurence\", \"Aircraft\").agg(sum(\"Total_Aircraft_Strikes\").alias(\"Total\")).\\\n",
    "                                                                                            alias(\"Totals\")\n",
    "\n",
    "w = Window().partitionBy(\"Strike_Occurence\").orderBy(col(\"Total\").desc())\n",
    "\n",
    "Sums_table = (Sums\n",
    "  .withColumn(\"rn\", row_number().over(w))\n",
    "  .where(col(\"rn\") == 1)\n",
    "  .select(\"Strike_Occurence\",\"Aircraft\")).orderBy(\"Strike_Occurence\", ascending=[1,1])\n",
    "\n",
    "summaryTable = df_Occ.join(Sums_table, on=\"Strike_Occurence\").orderBy(\"Strike_Occurence\", ascending=[1,1])\n",
    "\n",
    "summaryTable.toPandas()"
   ]
  },
  {
   "cell_type": "markdown",
   "metadata": {},
   "source": [
    "This makes more sense now because we can see that when strike occurence is very low, the number of distinct aircraft is very high meaning that there is no one single plane that ALWAYS strikes birds, there are 637 of them. However, even though they have the lowest occurence, the have the most fatalities and injuries and this is mainly because amongst those 637 airplanes, there are some that are smaller regional jets with smaller turbines and a bird injested might damage the engines completely and others that are really small such as single engine Cessnas, Pipers, etc. Look at the top strikes in the very low category:"
   ]
  },
  {
   "cell_type": "code",
   "execution_count": 32,
   "metadata": {},
   "outputs": [
    {
     "data": {
      "text/html": [
       "<div>\n",
       "<style scoped>\n",
       "    .dataframe tbody tr th:only-of-type {\n",
       "        vertical-align: middle;\n",
       "    }\n",
       "\n",
       "    .dataframe tbody tr th {\n",
       "        vertical-align: top;\n",
       "    }\n",
       "\n",
       "    .dataframe thead th {\n",
       "        text-align: right;\n",
       "    }\n",
       "</style>\n",
       "<table border=\"1\" class=\"dataframe\">\n",
       "  <thead>\n",
       "    <tr style=\"text-align: right;\">\n",
       "      <th></th>\n",
       "      <th>Strike_Occurence</th>\n",
       "      <th>Aircraft</th>\n",
       "      <th>Total_Aircraft_Strikes</th>\n",
       "      <th>Injuries</th>\n",
       "      <th>Fatalities</th>\n",
       "    </tr>\n",
       "  </thead>\n",
       "  <tbody>\n",
       "    <tr>\n",
       "      <th>0</th>\n",
       "      <td>1.very low</td>\n",
       "      <td>EMB-170</td>\n",
       "      <td>1727</td>\n",
       "      <td>0</td>\n",
       "      <td>0</td>\n",
       "    </tr>\n",
       "    <tr>\n",
       "      <th>1</th>\n",
       "      <td>1.very low</td>\n",
       "      <td>MD-11</td>\n",
       "      <td>1689</td>\n",
       "      <td>0</td>\n",
       "      <td>0</td>\n",
       "    </tr>\n",
       "    <tr>\n",
       "      <th>2</th>\n",
       "      <td>1.very low</td>\n",
       "      <td>BE-1900</td>\n",
       "      <td>1679</td>\n",
       "      <td>3</td>\n",
       "      <td>0</td>\n",
       "    </tr>\n",
       "    <tr>\n",
       "      <th>3</th>\n",
       "      <td>1.very low</td>\n",
       "      <td>B-717-200</td>\n",
       "      <td>1601</td>\n",
       "      <td>0</td>\n",
       "      <td>0</td>\n",
       "    </tr>\n",
       "    <tr>\n",
       "      <th>4</th>\n",
       "      <td>1.very low</td>\n",
       "      <td>MD-83</td>\n",
       "      <td>1600</td>\n",
       "      <td>0</td>\n",
       "      <td>0</td>\n",
       "    </tr>\n",
       "    <tr>\n",
       "      <th>5</th>\n",
       "      <td>1.very low</td>\n",
       "      <td>MD-88</td>\n",
       "      <td>1586</td>\n",
       "      <td>0</td>\n",
       "      <td>0</td>\n",
       "    </tr>\n",
       "    <tr>\n",
       "      <th>6</th>\n",
       "      <td>1.very low</td>\n",
       "      <td>UNKNOWN</td>\n",
       "      <td>1536</td>\n",
       "      <td>0</td>\n",
       "      <td>0</td>\n",
       "    </tr>\n",
       "    <tr>\n",
       "      <th>7</th>\n",
       "      <td>1.very low</td>\n",
       "      <td>B-737-400</td>\n",
       "      <td>1514</td>\n",
       "      <td>1</td>\n",
       "      <td>0</td>\n",
       "    </tr>\n",
       "    <tr>\n",
       "      <th>8</th>\n",
       "      <td>1.very low</td>\n",
       "      <td>EMB-135</td>\n",
       "      <td>1448</td>\n",
       "      <td>0</td>\n",
       "      <td>0</td>\n",
       "    </tr>\n",
       "    <tr>\n",
       "      <th>9</th>\n",
       "      <td>1.very low</td>\n",
       "      <td>DC-9-30</td>\n",
       "      <td>1447</td>\n",
       "      <td>0</td>\n",
       "      <td>0</td>\n",
       "    </tr>\n",
       "    <tr>\n",
       "      <th>10</th>\n",
       "      <td>1.very low</td>\n",
       "      <td>CRJ900</td>\n",
       "      <td>1446</td>\n",
       "      <td>0</td>\n",
       "      <td>0</td>\n",
       "    </tr>\n",
       "    <tr>\n",
       "      <th>11</th>\n",
       "      <td>1.very low</td>\n",
       "      <td>PA-28</td>\n",
       "      <td>1292</td>\n",
       "      <td>8</td>\n",
       "      <td>0</td>\n",
       "    </tr>\n",
       "    <tr>\n",
       "      <th>12</th>\n",
       "      <td>1.very low</td>\n",
       "      <td>B-737</td>\n",
       "      <td>1269</td>\n",
       "      <td>0</td>\n",
       "      <td>0</td>\n",
       "    </tr>\n",
       "    <tr>\n",
       "      <th>13</th>\n",
       "      <td>1.very low</td>\n",
       "      <td>DC-10-10</td>\n",
       "      <td>1266</td>\n",
       "      <td>0</td>\n",
       "      <td>0</td>\n",
       "    </tr>\n",
       "    <tr>\n",
       "      <th>14</th>\n",
       "      <td>1.very low</td>\n",
       "      <td>EMB-190</td>\n",
       "      <td>1138</td>\n",
       "      <td>0</td>\n",
       "      <td>0</td>\n",
       "    </tr>\n",
       "    <tr>\n",
       "      <th>15</th>\n",
       "      <td>1.very low</td>\n",
       "      <td>FOKKER F100</td>\n",
       "      <td>1115</td>\n",
       "      <td>0</td>\n",
       "      <td>0</td>\n",
       "    </tr>\n",
       "    <tr>\n",
       "      <th>16</th>\n",
       "      <td>1.very low</td>\n",
       "      <td>B-767-200</td>\n",
       "      <td>1049</td>\n",
       "      <td>0</td>\n",
       "      <td>0</td>\n",
       "    </tr>\n",
       "    <tr>\n",
       "      <th>17</th>\n",
       "      <td>1.very low</td>\n",
       "      <td>B-777-200</td>\n",
       "      <td>1029</td>\n",
       "      <td>0</td>\n",
       "      <td>0</td>\n",
       "    </tr>\n",
       "    <tr>\n",
       "      <th>18</th>\n",
       "      <td>1.very low</td>\n",
       "      <td>B-727</td>\n",
       "      <td>1020</td>\n",
       "      <td>0</td>\n",
       "      <td>0</td>\n",
       "    </tr>\n",
       "    <tr>\n",
       "      <th>19</th>\n",
       "      <td>1.very low</td>\n",
       "      <td>EMB-120</td>\n",
       "      <td>992</td>\n",
       "      <td>0</td>\n",
       "      <td>1</td>\n",
       "    </tr>\n",
       "    <tr>\n",
       "      <th>20</th>\n",
       "      <td>1.very low</td>\n",
       "      <td>C-560</td>\n",
       "      <td>967</td>\n",
       "      <td>0</td>\n",
       "      <td>0</td>\n",
       "    </tr>\n",
       "    <tr>\n",
       "      <th>21</th>\n",
       "      <td>1.very low</td>\n",
       "      <td>A-321</td>\n",
       "      <td>882</td>\n",
       "      <td>0</td>\n",
       "      <td>0</td>\n",
       "    </tr>\n",
       "    <tr>\n",
       "      <th>22</th>\n",
       "      <td>1.very low</td>\n",
       "      <td>DC-9</td>\n",
       "      <td>818</td>\n",
       "      <td>0</td>\n",
       "      <td>0</td>\n",
       "    </tr>\n",
       "    <tr>\n",
       "      <th>23</th>\n",
       "      <td>1.very low</td>\n",
       "      <td>B-747-400</td>\n",
       "      <td>793</td>\n",
       "      <td>4</td>\n",
       "      <td>0</td>\n",
       "    </tr>\n",
       "    <tr>\n",
       "      <th>24</th>\n",
       "      <td>1.very low</td>\n",
       "      <td>A-310</td>\n",
       "      <td>757</td>\n",
       "      <td>0</td>\n",
       "      <td>0</td>\n",
       "    </tr>\n",
       "    <tr>\n",
       "      <th>25</th>\n",
       "      <td>1.very low</td>\n",
       "      <td>BA-31 JETSTR</td>\n",
       "      <td>726</td>\n",
       "      <td>0</td>\n",
       "      <td>0</td>\n",
       "    </tr>\n",
       "    <tr>\n",
       "      <th>26</th>\n",
       "      <td>1.very low</td>\n",
       "      <td>BE-200 KING</td>\n",
       "      <td>562</td>\n",
       "      <td>0</td>\n",
       "      <td>0</td>\n",
       "    </tr>\n",
       "    <tr>\n",
       "      <th>27</th>\n",
       "      <td>1.very low</td>\n",
       "      <td>C-402</td>\n",
       "      <td>558</td>\n",
       "      <td>4</td>\n",
       "      <td>0</td>\n",
       "    </tr>\n",
       "    <tr>\n",
       "      <th>28</th>\n",
       "      <td>1.very low</td>\n",
       "      <td>C-152</td>\n",
       "      <td>557</td>\n",
       "      <td>4</td>\n",
       "      <td>0</td>\n",
       "    </tr>\n",
       "    <tr>\n",
       "      <th>29</th>\n",
       "      <td>1.very low</td>\n",
       "      <td>B-737-900</td>\n",
       "      <td>549</td>\n",
       "      <td>0</td>\n",
       "      <td>0</td>\n",
       "    </tr>\n",
       "  </tbody>\n",
       "</table>\n",
       "</div>"
      ],
      "text/plain": [
       "   Strike_Occurence      Aircraft  Total_Aircraft_Strikes  Injuries  \\\n",
       "0        1.very low       EMB-170                    1727         0   \n",
       "1        1.very low         MD-11                    1689         0   \n",
       "2        1.very low       BE-1900                    1679         3   \n",
       "3        1.very low     B-717-200                    1601         0   \n",
       "4        1.very low         MD-83                    1600         0   \n",
       "5        1.very low         MD-88                    1586         0   \n",
       "6        1.very low       UNKNOWN                    1536         0   \n",
       "7        1.very low     B-737-400                    1514         1   \n",
       "8        1.very low       EMB-135                    1448         0   \n",
       "9        1.very low       DC-9-30                    1447         0   \n",
       "10       1.very low        CRJ900                    1446         0   \n",
       "11       1.very low         PA-28                    1292         8   \n",
       "12       1.very low         B-737                    1269         0   \n",
       "13       1.very low      DC-10-10                    1266         0   \n",
       "14       1.very low       EMB-190                    1138         0   \n",
       "15       1.very low   FOKKER F100                    1115         0   \n",
       "16       1.very low     B-767-200                    1049         0   \n",
       "17       1.very low     B-777-200                    1029         0   \n",
       "18       1.very low         B-727                    1020         0   \n",
       "19       1.very low       EMB-120                     992         0   \n",
       "20       1.very low         C-560                     967         0   \n",
       "21       1.very low         A-321                     882         0   \n",
       "22       1.very low          DC-9                     818         0   \n",
       "23       1.very low     B-747-400                     793         4   \n",
       "24       1.very low         A-310                     757         0   \n",
       "25       1.very low  BA-31 JETSTR                     726         0   \n",
       "26       1.very low   BE-200 KING                     562         0   \n",
       "27       1.very low         C-402                     558         4   \n",
       "28       1.very low         C-152                     557         4   \n",
       "29       1.very low     B-737-900                     549         0   \n",
       "\n",
       "    Fatalities  \n",
       "0            0  \n",
       "1            0  \n",
       "2            0  \n",
       "3            0  \n",
       "4            0  \n",
       "5            0  \n",
       "6            0  \n",
       "7            0  \n",
       "8            0  \n",
       "9            0  \n",
       "10           0  \n",
       "11           0  \n",
       "12           0  \n",
       "13           0  \n",
       "14           0  \n",
       "15           0  \n",
       "16           0  \n",
       "17           0  \n",
       "18           0  \n",
       "19           1  \n",
       "20           0  \n",
       "21           0  \n",
       "22           0  \n",
       "23           0  \n",
       "24           0  \n",
       "25           0  \n",
       "26           0  \n",
       "27           0  \n",
       "28           0  \n",
       "29           0  "
      ]
     },
     "execution_count": 32,
     "metadata": {},
     "output_type": "execute_result"
    }
   ],
   "source": [
    "df_final.select([\"Aircraft\",\"Total_Aircraft_Strikes\",\"Strike_Occurence\",\"Injuries\",\"Fatalities\"]).\\\n",
    "        groupBy(\"Strike_Occurence\",\"Aircraft\").agg(sum(\"Total_Aircraft_Strikes\").alias(\"Total_Aircraft_Strikes\"),\\\n",
    "                                        sum(\"Injuries\").alias(\"Injuries\"),sum(\"Fatalities\").alias(\"Fatalities\")).\\\n",
    "        orderBy(\"Total_Aircraft_Strikes\", ascending=[0,0]).where(col(\"Strike_Occurence\") == \"1.very low\").toPandas().\\\n",
    "        head(30)"
   ]
  },
  {
   "cell_type": "markdown",
   "metadata": {},
   "source": [
    "On the other hand, the aircraft that have very high strike occurences are airliners such as Boeing's 737 (in fact, the only 2 aircraft in this strike category are different variants of the 737). It makes sense that this type of aircraft has the most occurences because they are used a lot by airlines and therefore the more time an aircraft has flying, the higher the chances of hitting a bird."
   ]
  },
  {
   "cell_type": "code",
   "execution_count": 33,
   "metadata": {},
   "outputs": [
    {
     "data": {
      "text/html": [
       "<div>\n",
       "<style scoped>\n",
       "    .dataframe tbody tr th:only-of-type {\n",
       "        vertical-align: middle;\n",
       "    }\n",
       "\n",
       "    .dataframe tbody tr th {\n",
       "        vertical-align: top;\n",
       "    }\n",
       "\n",
       "    .dataframe thead th {\n",
       "        text-align: right;\n",
       "    }\n",
       "</style>\n",
       "<table border=\"1\" class=\"dataframe\">\n",
       "  <thead>\n",
       "    <tr style=\"text-align: right;\">\n",
       "      <th></th>\n",
       "      <th>Strike_Occurence</th>\n",
       "      <th>Aircraft</th>\n",
       "      <th>Total_Aircraft_Strikes</th>\n",
       "      <th>Injuries</th>\n",
       "      <th>Fatalities</th>\n",
       "    </tr>\n",
       "  </thead>\n",
       "  <tbody>\n",
       "    <tr>\n",
       "      <th>0</th>\n",
       "      <td>1.very low</td>\n",
       "      <td>BE-35</td>\n",
       "      <td>159</td>\n",
       "      <td>0</td>\n",
       "      <td>0</td>\n",
       "    </tr>\n",
       "  </tbody>\n",
       "</table>\n",
       "</div>"
      ],
      "text/plain": [
       "  Strike_Occurence Aircraft  Total_Aircraft_Strikes  Injuries  Fatalities\n",
       "0       1.very low    BE-35                     159         0           0"
      ]
     },
     "execution_count": 33,
     "metadata": {},
     "output_type": "execute_result"
    }
   ],
   "source": [
    "test=df_final.select([\"Aircraft\",\"Total_Aircraft_Strikes\",\"Strike_Occurence\",\"Injuries\",\"Fatalities\"]).\\\n",
    "        groupBy(\"Strike_Occurence\",\"Aircraft\").agg(sum(\"Total_Aircraft_Strikes\").alias(\"Total_Aircraft_Strikes\"),\\\n",
    "                                        sum(\"Injuries\").alias(\"Injuries\"),sum(\"Fatalities\").alias(\"Fatalities\"))\n",
    "test.filter(test.Aircraft.like(\"%BE-35%\")).toPandas()"
   ]
  }
 ],
 "metadata": {
  "kernelspec": {
   "display_name": "Python 3",
   "language": "python",
   "name": "python3"
  },
  "language_info": {
   "codemirror_mode": {
    "name": "ipython",
    "version": 3
   },
   "file_extension": ".py",
   "mimetype": "text/x-python",
   "name": "python",
   "nbconvert_exporter": "python",
   "pygments_lexer": "ipython3",
   "version": "3.7.3"
  }
 },
 "nbformat": 4,
 "nbformat_minor": 4
}
